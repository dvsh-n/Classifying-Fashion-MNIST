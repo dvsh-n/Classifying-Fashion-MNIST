{
  "cells": [
    {
      "cell_type": "code",
      "execution_count": null,
      "metadata": {
        "id": "KkskOxCfU_oq"
      },
      "outputs": [],
      "source": [
        "import tensorflow as tf\n",
        "from tensorflow import keras\n",
        "import numpy as np\n",
        "from matplotlib import pyplot as plt\n",
        "from keras.datasets import fashion_mnist as fmnist\n",
        "from keras.layers import Dense, Flatten, Conv2D, MaxPool2D, LeakyReLU, BatchNormalization, Dropout\n"
      ]
    },
    {
      "cell_type": "markdown",
      "metadata": {
        "id": "guJweNNTU_ot"
      },
      "source": [
        "<h3>Loading the train test splits for fashion_mnist</h3>"
      ]
    },
    {
      "cell_type": "code",
      "execution_count": null,
      "metadata": {
        "colab": {
          "base_uri": "https://localhost:8080/"
        },
        "id": "lEMVFgoVU_ou",
        "outputId": "7ee3b46a-fe2d-46f2-848d-87e86ee1fed4"
      },
      "outputs": [
        {
          "output_type": "stream",
          "name": "stdout",
          "text": [
            "Downloading data from https://storage.googleapis.com/tensorflow/tf-keras-datasets/train-labels-idx1-ubyte.gz\n",
            "32768/29515 [=================================] - 0s 0us/step\n",
            "40960/29515 [=========================================] - 0s 0us/step\n",
            "Downloading data from https://storage.googleapis.com/tensorflow/tf-keras-datasets/train-images-idx3-ubyte.gz\n",
            "26427392/26421880 [==============================] - 0s 0us/step\n",
            "26435584/26421880 [==============================] - 0s 0us/step\n",
            "Downloading data from https://storage.googleapis.com/tensorflow/tf-keras-datasets/t10k-labels-idx1-ubyte.gz\n",
            "16384/5148 [===============================================================================================] - 0s 0us/step\n",
            "Downloading data from https://storage.googleapis.com/tensorflow/tf-keras-datasets/t10k-images-idx3-ubyte.gz\n",
            "4423680/4422102 [==============================] - 0s 0us/step\n",
            "4431872/4422102 [==============================] - 0s 0us/step\n",
            "(60000, 28, 28)\n"
          ]
        }
      ],
      "source": [
        "(train_X, train_y), (test_X, test_y) = fmnist.load_data()\n",
        "print(np.shape(train_X))"
      ]
    },
    {
      "cell_type": "markdown",
      "metadata": {
        "id": "5zkIwjBVU_ov"
      },
      "source": [
        "<h3>Preprocessing data</h3>"
      ]
    },
    {
      "cell_type": "code",
      "execution_count": null,
      "metadata": {
        "id": "vKwBKNsVU_ov"
      },
      "outputs": [],
      "source": [
        "def normalize(image):\n",
        "    \n",
        "    image = tf.cast(image, dtype=float)/255\n",
        "\n",
        "    return image\n",
        "\n",
        "def one_hot_matrix(labels, depth = 10):\n",
        "    \n",
        "    one_hot = tf.reshape(tf.one_hot(labels, depth, axis = 0), [-1,])\n",
        "    \n",
        "    return one_hot\n",
        "\n",
        "train_X = tf.data.Dataset.from_tensor_slices(train_X)\n",
        "train_y = tf.data.Dataset.from_tensor_slices(train_y)\n",
        "\n",
        "test_X = tf.data.Dataset.from_tensor_slices(test_X)\n",
        "test_y = tf.data.Dataset.from_tensor_slices(test_y)\n",
        "\n",
        "new_train_X = train_X.map(normalize)\n",
        "new_test_X = test_X.map(normalize)\n",
        "\n",
        "new_train_y = train_y.map(one_hot_matrix)\n",
        "new_test_y = test_y.map(one_hot_matrix)\n",
        "\n",
        "train_datset = tf.data.Dataset.zip((new_train_X, new_train_y)).batch(32).prefetch(6)\n",
        "test_datset = tf.data.Dataset.zip((new_test_X, new_test_y)).batch(32).prefetch(6)\n"
      ]
    },
    {
      "cell_type": "markdown",
      "source": [
        "<h3>Conv Block</h3>"
      ],
      "metadata": {
        "id": "L0Xy2qkk8Fsj"
      }
    },
    {
      "cell_type": "code",
      "source": [
        "def ConvBlock(prev, filter_size, num_filters, drop = True, padding = 'valid', pool = True):\n",
        "\n",
        "  X = Conv2D(num_filters, kernel_size = (filter_size,filter_size), strides = (1,1), use_bias = True, padding = padding, kernel_initializer = 'glorot_normal')(prev)\n",
        "\n",
        "  X = LeakyReLU()(X)\n",
        "\n",
        "  X = BatchNormalization(axis = 3, trainable = True)(X)\n",
        "\n",
        "  if pool == True:\n",
        "    X = MaxPool2D(pool_size= (2,2), strides = (2,2))(X)\n",
        "\n",
        "  if drop == True:\n",
        "    X = Dropout(0.1)(X)\n",
        "\n",
        "  return X"
      ],
      "metadata": {
        "id": "rQRKfBpH4wvH"
      },
      "execution_count": null,
      "outputs": []
    },
    {
      "cell_type": "markdown",
      "metadata": {
        "id": "ZZM0juXmU_ow"
      },
      "source": [
        "<h3>Defining the Model</h3>"
      ]
    },
    {
      "cell_type": "code",
      "execution_count": null,
      "metadata": {
        "id": "7YrFPYVbU_ow"
      },
      "outputs": [],
      "source": [
        "def Classifier_model(input_shape):\n",
        "\n",
        "  input_img = tf.keras.Input(shape = input_shape)\n",
        "\n",
        "  CBlock1 = ConvBlock(input_img, filter_size=4, num_filters=256, padding='same')\n",
        "\n",
        "  CBlock2 = ConvBlock(CBlock1, filter_size=4, num_filters=128, pool=False)\n",
        "\n",
        "  CBlock3 = ConvBlock(CBlock2, filter_size=2, num_filters=128, padding='same')\n",
        "\n",
        "  CBlock4 = ConvBlock(CBlock3, filter_size=2, num_filters=64)\n",
        "\n",
        "  Flat = Flatten()(CBlock4)\n",
        "\n",
        "  outputs = Dense(units = 10, activation = 'softmax')(Flat)\n",
        "\n",
        "  model = tf.keras.Model(inputs = input_img, outputs = outputs)   \n",
        "\n",
        "  return model\n"
      ]
    },
    {
      "cell_type": "markdown",
      "metadata": {
        "id": "UmPd6inmU_ox"
      },
      "source": [
        "<h3>Creating the Model Object</h3>"
      ]
    },
    {
      "cell_type": "code",
      "execution_count": null,
      "metadata": {
        "colab": {
          "base_uri": "https://localhost:8080/"
        },
        "id": "k7lM-IcHU_ox",
        "outputId": "946ef29f-cdfe-404c-8db0-a5fd295ea4ed"
      },
      "outputs": [
        {
          "output_type": "stream",
          "name": "stdout",
          "text": [
            "Model: \"model_1\"\n",
            "_________________________________________________________________\n",
            " Layer (type)                Output Shape              Param #   \n",
            "=================================================================\n",
            " input_2 (InputLayer)        [(None, 28, 28, 1)]       0         \n",
            "                                                                 \n",
            " conv2d_4 (Conv2D)           (None, 28, 28, 256)       4352      \n",
            "                                                                 \n",
            " leaky_re_lu_4 (LeakyReLU)   (None, 28, 28, 256)       0         \n",
            "                                                                 \n",
            " batch_normalization_4 (Batc  (None, 28, 28, 256)      1024      \n",
            " hNormalization)                                                 \n",
            "                                                                 \n",
            " max_pooling2d_3 (MaxPooling  (None, 14, 14, 256)      0         \n",
            " 2D)                                                             \n",
            "                                                                 \n",
            " dropout_4 (Dropout)         (None, 14, 14, 256)       0         \n",
            "                                                                 \n",
            " conv2d_5 (Conv2D)           (None, 11, 11, 128)       524416    \n",
            "                                                                 \n",
            " leaky_re_lu_5 (LeakyReLU)   (None, 11, 11, 128)       0         \n",
            "                                                                 \n",
            " batch_normalization_5 (Batc  (None, 11, 11, 128)      512       \n",
            " hNormalization)                                                 \n",
            "                                                                 \n",
            " dropout_5 (Dropout)         (None, 11, 11, 128)       0         \n",
            "                                                                 \n",
            " conv2d_6 (Conv2D)           (None, 11, 11, 128)       65664     \n",
            "                                                                 \n",
            " leaky_re_lu_6 (LeakyReLU)   (None, 11, 11, 128)       0         \n",
            "                                                                 \n",
            " batch_normalization_6 (Batc  (None, 11, 11, 128)      512       \n",
            " hNormalization)                                                 \n",
            "                                                                 \n",
            " max_pooling2d_4 (MaxPooling  (None, 5, 5, 128)        0         \n",
            " 2D)                                                             \n",
            "                                                                 \n",
            " dropout_6 (Dropout)         (None, 5, 5, 128)         0         \n",
            "                                                                 \n",
            " conv2d_7 (Conv2D)           (None, 4, 4, 64)          32832     \n",
            "                                                                 \n",
            " leaky_re_lu_7 (LeakyReLU)   (None, 4, 4, 64)          0         \n",
            "                                                                 \n",
            " batch_normalization_7 (Batc  (None, 4, 4, 64)         256       \n",
            " hNormalization)                                                 \n",
            "                                                                 \n",
            " max_pooling2d_5 (MaxPooling  (None, 2, 2, 64)         0         \n",
            " 2D)                                                             \n",
            "                                                                 \n",
            " dropout_7 (Dropout)         (None, 2, 2, 64)          0         \n",
            "                                                                 \n",
            " flatten_1 (Flatten)         (None, 256)               0         \n",
            "                                                                 \n",
            " dense_1 (Dense)             (None, 10)                2570      \n",
            "                                                                 \n",
            "=================================================================\n",
            "Total params: 632,138\n",
            "Trainable params: 630,986\n",
            "Non-trainable params: 1,152\n",
            "_________________________________________________________________\n"
          ]
        }
      ],
      "source": [
        "Model = Classifier_model((28,28,1))\n",
        "Model.compile(optimizer = 'adam', loss = 'categorical_crossentropy', metrics = ['accuracy'])\n",
        "Model.summary()"
      ]
    },
    {
      "cell_type": "markdown",
      "metadata": {
        "id": "9DS7_6YOU_oy"
      },
      "source": [
        "<h3>Training the Model</h3>"
      ]
    },
    {
      "cell_type": "code",
      "execution_count": null,
      "metadata": {
        "colab": {
          "base_uri": "https://localhost:8080/"
        },
        "id": "r34CnbL7U_oy",
        "outputId": "d866c6dd-73ca-4842-f547-10cc8e8a1be7"
      },
      "outputs": [
        {
          "output_type": "stream",
          "name": "stdout",
          "text": [
            "/device:GPU:0\n",
            "Epoch 1/40\n",
            "1875/1875 [==============================] - 23s 12ms/step - loss: 0.4464 - accuracy: 0.8405 - val_loss: 0.4279 - val_accuracy: 0.8478\n",
            "Epoch 2/40\n",
            "1875/1875 [==============================] - 22s 12ms/step - loss: 0.3206 - accuracy: 0.8842 - val_loss: 0.3162 - val_accuracy: 0.8889\n",
            "Epoch 3/40\n",
            "1875/1875 [==============================] - 22s 12ms/step - loss: 0.2841 - accuracy: 0.8972 - val_loss: 0.3353 - val_accuracy: 0.8821\n",
            "Epoch 4/40\n",
            "1875/1875 [==============================] - 22s 12ms/step - loss: 0.2613 - accuracy: 0.9057 - val_loss: 0.2984 - val_accuracy: 0.8963\n",
            "Epoch 5/40\n",
            "1875/1875 [==============================] - 22s 12ms/step - loss: 0.2447 - accuracy: 0.9108 - val_loss: 0.2827 - val_accuracy: 0.9041\n",
            "Epoch 6/40\n",
            "1875/1875 [==============================] - 22s 12ms/step - loss: 0.2270 - accuracy: 0.9166 - val_loss: 0.3070 - val_accuracy: 0.8927\n",
            "Epoch 7/40\n",
            "1875/1875 [==============================] - 22s 12ms/step - loss: 0.2141 - accuracy: 0.9222 - val_loss: 0.2779 - val_accuracy: 0.9016\n",
            "Epoch 8/40\n",
            "1875/1875 [==============================] - 23s 12ms/step - loss: 0.2031 - accuracy: 0.9266 - val_loss: 0.2515 - val_accuracy: 0.9145\n",
            "Epoch 9/40\n",
            "1875/1875 [==============================] - 22s 12ms/step - loss: 0.1918 - accuracy: 0.9300 - val_loss: 0.2677 - val_accuracy: 0.9118\n",
            "Epoch 10/40\n",
            "1875/1875 [==============================] - 22s 12ms/step - loss: 0.1830 - accuracy: 0.9333 - val_loss: 0.2799 - val_accuracy: 0.9071\n",
            "Epoch 11/40\n",
            "1875/1875 [==============================] - 22s 12ms/step - loss: 0.1748 - accuracy: 0.9355 - val_loss: 0.2590 - val_accuracy: 0.9114\n",
            "Epoch 12/40\n",
            "1875/1875 [==============================] - 23s 12ms/step - loss: 0.1653 - accuracy: 0.9399 - val_loss: 0.2538 - val_accuracy: 0.9148\n",
            "Epoch 13/40\n",
            "1875/1875 [==============================] - 22s 12ms/step - loss: 0.1579 - accuracy: 0.9420 - val_loss: 0.2812 - val_accuracy: 0.9074\n",
            "Epoch 14/40\n",
            "1875/1875 [==============================] - 22s 12ms/step - loss: 0.1524 - accuracy: 0.9431 - val_loss: 0.2762 - val_accuracy: 0.9113\n",
            "Epoch 15/40\n",
            "1875/1875 [==============================] - 22s 12ms/step - loss: 0.1456 - accuracy: 0.9467 - val_loss: 0.2643 - val_accuracy: 0.9153\n",
            "Epoch 16/40\n",
            "1875/1875 [==============================] - 22s 12ms/step - loss: 0.1412 - accuracy: 0.9484 - val_loss: 0.2973 - val_accuracy: 0.9039\n",
            "Epoch 17/40\n",
            "1875/1875 [==============================] - 22s 12ms/step - loss: 0.1341 - accuracy: 0.9499 - val_loss: 0.2582 - val_accuracy: 0.9179\n",
            "Epoch 18/40\n",
            "1875/1875 [==============================] - 22s 12ms/step - loss: 0.1288 - accuracy: 0.9519 - val_loss: 0.2570 - val_accuracy: 0.9182\n",
            "Epoch 19/40\n",
            "1875/1875 [==============================] - 22s 12ms/step - loss: 0.1240 - accuracy: 0.9534 - val_loss: 0.2811 - val_accuracy: 0.9145\n",
            "Epoch 20/40\n",
            "1875/1875 [==============================] - 22s 12ms/step - loss: 0.1193 - accuracy: 0.9561 - val_loss: 0.2583 - val_accuracy: 0.9204\n",
            "Epoch 21/40\n",
            "1875/1875 [==============================] - 22s 12ms/step - loss: 0.1165 - accuracy: 0.9561 - val_loss: 0.2688 - val_accuracy: 0.9155\n",
            "Epoch 22/40\n",
            "1875/1875 [==============================] - 22s 12ms/step - loss: 0.1136 - accuracy: 0.9576 - val_loss: 0.2748 - val_accuracy: 0.9203\n",
            "Epoch 23/40\n",
            "1875/1875 [==============================] - 22s 12ms/step - loss: 0.1110 - accuracy: 0.9586 - val_loss: 0.2813 - val_accuracy: 0.9177\n",
            "Epoch 24/40\n",
            "1875/1875 [==============================] - 22s 12ms/step - loss: 0.1077 - accuracy: 0.9605 - val_loss: 0.2796 - val_accuracy: 0.9172\n",
            "Epoch 25/40\n",
            "1875/1875 [==============================] - 22s 12ms/step - loss: 0.1018 - accuracy: 0.9620 - val_loss: 0.2736 - val_accuracy: 0.9180\n",
            "Epoch 26/40\n",
            "1875/1875 [==============================] - 23s 12ms/step - loss: 0.0991 - accuracy: 0.9625 - val_loss: 0.2865 - val_accuracy: 0.9159\n",
            "Epoch 27/40\n",
            "1875/1875 [==============================] - 22s 12ms/step - loss: 0.0966 - accuracy: 0.9638 - val_loss: 0.2838 - val_accuracy: 0.9181\n",
            "Epoch 28/40\n",
            "1875/1875 [==============================] - 22s 12ms/step - loss: 0.0981 - accuracy: 0.9628 - val_loss: 0.3021 - val_accuracy: 0.9187\n",
            "Epoch 29/40\n",
            "1875/1875 [==============================] - 22s 12ms/step - loss: 0.0923 - accuracy: 0.9656 - val_loss: 0.3513 - val_accuracy: 0.9063\n",
            "Epoch 30/40\n",
            "1875/1875 [==============================] - 22s 12ms/step - loss: 0.0893 - accuracy: 0.9664 - val_loss: 0.3135 - val_accuracy: 0.9160\n",
            "Epoch 31/40\n",
            "1875/1875 [==============================] - 22s 12ms/step - loss: 0.0892 - accuracy: 0.9667 - val_loss: 0.3029 - val_accuracy: 0.9165\n",
            "Epoch 32/40\n",
            "1875/1875 [==============================] - 22s 12ms/step - loss: 0.0833 - accuracy: 0.9690 - val_loss: 0.2986 - val_accuracy: 0.9174\n",
            "Epoch 33/40\n",
            "1875/1875 [==============================] - 22s 12ms/step - loss: 0.0853 - accuracy: 0.9683 - val_loss: 0.3058 - val_accuracy: 0.9180\n",
            "Epoch 34/40\n",
            "1875/1875 [==============================] - 23s 12ms/step - loss: 0.0805 - accuracy: 0.9700 - val_loss: 0.3107 - val_accuracy: 0.9173\n",
            "Epoch 35/40\n",
            "1875/1875 [==============================] - 22s 12ms/step - loss: 0.0785 - accuracy: 0.9707 - val_loss: 0.3524 - val_accuracy: 0.9125\n",
            "Epoch 36/40\n",
            "1875/1875 [==============================] - 22s 12ms/step - loss: 0.0786 - accuracy: 0.9703 - val_loss: 0.3358 - val_accuracy: 0.9159\n",
            "Epoch 37/40\n",
            "1875/1875 [==============================] - 22s 12ms/step - loss: 0.0760 - accuracy: 0.9723 - val_loss: 0.3211 - val_accuracy: 0.9166\n",
            "Epoch 38/40\n",
            "1875/1875 [==============================] - 22s 12ms/step - loss: 0.0768 - accuracy: 0.9717 - val_loss: 0.3247 - val_accuracy: 0.9196\n",
            "Epoch 39/40\n",
            "1875/1875 [==============================] - 22s 12ms/step - loss: 0.0710 - accuracy: 0.9732 - val_loss: 0.3161 - val_accuracy: 0.9183\n",
            "Epoch 40/40\n",
            "1875/1875 [==============================] - 22s 12ms/step - loss: 0.0710 - accuracy: 0.9737 - val_loss: 0.3226 - val_accuracy: 0.9202\n"
          ]
        }
      ],
      "source": [
        "device_name = tf.test.gpu_device_name()\n",
        "print(device_name)\n",
        "\n",
        "with tf.device('/device:GPU:0'):\n",
        "    history = Model.fit(train_datset, epochs = 40, validation_data = test_datset)\n"
      ]
    },
    {
      "cell_type": "markdown",
      "metadata": {
        "id": "IPmw8P8EU_oy"
      },
      "source": [
        "<h3>Visualizing Model Loss and Model Accuracy over training</h3>"
      ]
    },
    {
      "cell_type": "code",
      "execution_count": null,
      "metadata": {
        "colab": {
          "base_uri": "https://localhost:8080/",
          "height": 530
        },
        "id": "YaxpKTI0U_oz",
        "outputId": "f364aeaa-d644-48ed-9fce-f664c23ca655"
      },
      "outputs": [
        {
          "output_type": "execute_result",
          "data": {
            "text/plain": [
              "<matplotlib.legend.Legend at 0x7f052002d510>"
            ]
          },
          "metadata": {},
          "execution_count": 15
        },
        {
          "output_type": "display_data",
          "data": {
            "text/plain": [
              "<Figure size 576x576 with 2 Axes>"
            ],
            "image/png": "[encoded data removed]"
          },
          "metadata": {
            "needs_background": "light"
          }
        }
      ],
      "source": [
        "# import pandas as pd\n",
        "\n",
        "# history = pd.DataFrame(history.history)\n",
        "\n",
        "# history.rename(columns = {'loss':'training loss', 'val_loss':'validation loss', 'accuracy':'training accuracy', 'val_accuracy': 'validation accuracy'}, inplace=True)\n",
        "\n",
        "plt.figure(figsize=(8,8))\n",
        "plt.subplot(2,1,1)\n",
        "plt.plot(history['training loss'], label = 'training loss')\n",
        "plt.plot(history['validation loss'], label = 'validation loss')\n",
        "plt.title('Model Loss')\n",
        "plt.ylabel('loss')\n",
        "plt.legend(loc = 'upper right')\n",
        "\n",
        "plt.subplot(2,1,2)\n",
        "plt.plot(history['training accuracy'], label = 'training accuracy')\n",
        "plt.plot(history['validation accuracy'], label = 'validation accuracy')\n",
        "plt.title('Model Accuracy')\n",
        "plt.xlabel('epoch')\n",
        "plt.ylabel('accuracy')\n",
        "plt.legend(loc = 'lower right')\n"
      ]
    },
    {
      "cell_type": "markdown",
      "metadata": {
        "id": "nyGpgS56U_oz"
      },
      "source": [
        "<h3>Saving the Model</h3>"
      ]
    },
    {
      "cell_type": "code",
      "source": [
        "Model.save('Model')"
      ],
      "metadata": {
        "colab": {
          "base_uri": "https://localhost:8080/"
        },
        "id": "r4ys0TAhLbkS",
        "outputId": "beb6dbb6-4051-4513-982b-d0839c7af3bb"
      },
      "execution_count": null,
      "outputs": [
        {
          "output_type": "stream",
          "name": "stdout",
          "text": [
            "INFO:tensorflow:Assets written to: Model/assets\n"
          ]
        }
      ]
    },
    {
      "cell_type": "code",
      "source": [
        "!zip -r /content/Model.zip /content/Model"
      ],
      "metadata": {
        "colab": {
          "base_uri": "https://localhost:8080/"
        },
        "id": "Sk9A5OI1mH5U",
        "outputId": "887361fa-bc23-4d6f-a51f-be18d3605cd3"
      },
      "execution_count": null,
      "outputs": [
        {
          "output_type": "stream",
          "name": "stdout",
          "text": [
            "  adding: content/Model/ (stored 0%)\n",
            "  adding: content/Model/saved_model.pb (deflated 90%)\n",
            "  adding: content/Model/keras_metadata.pb (deflated 93%)\n",
            "  adding: content/Model/assets/ (stored 0%)\n",
            "  adding: content/Model/variables/ (stored 0%)\n",
            "  adding: content/Model/variables/variables.data-00000-of-00001 (deflated 5%)\n",
            "  adding: content/Model/variables/variables.index (deflated 72%)\n"
          ]
        }
      ]
    },
    {
      "cell_type": "markdown",
      "metadata": {
        "id": "Ho_nONx3U_oz"
      },
      "source": [
        "<h3>Notes for the first v2.2 of the Model</h3>\n",
        "\n",
        "The CNN does reasonably well now. Unlike the very first model, there are no exploding/vanishing gradients and hence no freaky accuracy values. The occurence of such abnormal values was tried to be reduced by dropout, normal initialization, batch normalization and l2 or l1 initialization. The CNN model was also changed and more Conv blocks were added to fit the dataset better with more tunable parameters. At the end, only a dropout of 0.1, batch normalization, and normal initialization were used to reduce the variance. The Model is now ~92% accurate on the test set and ~97% accurate on the training set."
      ]
    }
  ],
  "metadata": {
    "interpreter": {
      "hash": "602c94c5e625c8fc67b89b274f9eced6f49a7ae35691cfd2571de527b0559566"
    },
    "kernelspec": {
      "display_name": "Python 3.10.0 ('tensorflow')",
      "language": "python",
      "name": "python3"
    },
    "language_info": {
      "codemirror_mode": {
        "name": "ipython",
        "version": 3
      },
      "file_extension": ".py",
      "mimetype": "text/x-python",
      "name": "python",
      "nbconvert_exporter": "python",
      "pygments_lexer": "ipython3",
      "version": "3.10.0"
    },
    "orig_nbformat": 4,
    "colab": {
      "name": "CNN-FashionMNIST.ipynb",
      "provenance": []
    },
    "accelerator": "GPU"
  },
  "nbformat": 4,
  "nbformat_minor": 0
}