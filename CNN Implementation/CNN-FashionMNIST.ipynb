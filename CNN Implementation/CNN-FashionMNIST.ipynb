{
 "cells": [
  {
   "cell_type": "code",
   "execution_count": 1,
   "metadata": {},
   "outputs": [],
   "source": [
    "import tensorflow as tf\n",
    "from tensorflow import keras\n",
    "import numpy as np\n",
    "from matplotlib import pyplot as plt\n",
    "from keras.datasets import fashion_mnist as fmnist\n",
    "from keras.layers import Dense, Flatten, Conv2D, MaxPool2D, ReLU, BatchNormalization, Dropout\n"
   ]
  },
  {
   "cell_type": "markdown",
   "metadata": {},
   "source": [
    "<h3>Loading the train test splits for fashion_mnist</h3>"
   ]
  },
  {
   "cell_type": "code",
   "execution_count": 2,
   "metadata": {},
   "outputs": [
    {
     "name": "stdout",
     "output_type": "stream",
     "text": [
      "(60000, 28, 28)\n"
     ]
    }
   ],
   "source": [
    "(train_X, train_y), (test_X, test_y) = fmnist.load_data()\n",
    "print(np.shape(train_X))"
   ]
  },
  {
   "cell_type": "markdown",
   "metadata": {},
   "source": [
    "<h3>Preprocessing data</h3>"
   ]
  },
  {
   "cell_type": "code",
   "execution_count": 3,
   "metadata": {},
   "outputs": [],
   "source": [
    "def normalize(image):\n",
    "    \n",
    "    image = tf.cast(image, dtype=float)/255\n",
    "    # image = tf.reshape(image, [-1,])\n",
    "\n",
    "    return image\n",
    "\n",
    "def one_hot_matrix(labels, depth = 10):\n",
    "    \n",
    "    one_hot = tf.reshape(tf.one_hot(labels, depth, axis = 0), [-1,])\n",
    "    \n",
    "    return one_hot\n",
    "\n",
    "train_X = tf.data.Dataset.from_tensor_slices(train_X)\n",
    "train_y = tf.data.Dataset.from_tensor_slices(train_y)\n",
    "\n",
    "test_X = tf.data.Dataset.from_tensor_slices(test_X)\n",
    "test_y = tf.data.Dataset.from_tensor_slices(test_y)\n",
    "\n",
    "new_train_X = train_X.map(normalize)\n",
    "new_test_X = test_X.map(normalize)\n",
    "\n",
    "new_train_y = train_y.map(one_hot_matrix)\n",
    "new_test_y = test_y.map(one_hot_matrix)\n",
    "\n",
    "train_datset = tf.data.Dataset.zip((new_train_X, new_train_y)).batch(64).prefetch(6)\n",
    "test_datset = tf.data.Dataset.zip((new_test_X, new_test_y)).batch(64).prefetch(6)\n"
   ]
  },
  {
   "cell_type": "markdown",
   "metadata": {},
   "source": [
    "<h3>Defining the Model</h3>"
   ]
  },
  {
   "cell_type": "code",
   "execution_count": 4,
   "metadata": {},
   "outputs": [],
   "source": [
    "def Classifier_model(input_shape):\n",
    "\n",
    "    input_img = tf.keras.Input(shape = input_shape)\n",
    "\n",
    "    X = Conv2D(64, kernel_size = (2,2), strides = (1,1), use_bias = True)(input_img)\n",
    "\n",
    "    X = ReLU()(X)\n",
    "\n",
    "    X = BatchNormalization(axis = 3, trainable = True)(X)\n",
    "\n",
    "    X = MaxPool2D(pool_size= (2,2), strides = (2,2))(X)\n",
    "\n",
    "    X = Dropout(0.1)(X)\n",
    "\n",
    "    X = Conv2D(32, kernel_size = (2,2), strides = (1,1), use_bias= True)(X)\n",
    "\n",
    "    X = ReLU()(X)\n",
    "\n",
    "    X = BatchNormalization(axis = 3, trainable = True)(X)\n",
    "\n",
    "    X = MaxPool2D(pool_size= (2,2), strides = (2,2))(X)\n",
    "\n",
    "    X = Dropout(0.1)(X)\n",
    "\n",
    "    X = Flatten()(X)\n",
    "\n",
    "    outputs = Dense(units = 10, activation = 'softmax')(X)\n",
    "\n",
    "    model = tf.keras.Model(inputs = input_img, outputs = outputs)\n",
    "\n",
    "    return model\n"
   ]
  },
  {
   "cell_type": "markdown",
   "metadata": {},
   "source": [
    "<h3>Creating the Model Object</h3>"
   ]
  },
  {
   "cell_type": "code",
   "execution_count": 5,
   "metadata": {},
   "outputs": [
    {
     "name": "stdout",
     "output_type": "stream",
     "text": [
      "Model: \"model\"\n",
      "_________________________________________________________________\n",
      " Layer (type)                Output Shape              Param #   \n",
      "=================================================================\n",
      " input_1 (InputLayer)        [(None, 28, 28, 1)]       0         \n",
      "                                                                 \n",
      " conv2d (Conv2D)             (None, 27, 27, 64)        320       \n",
      "                                                                 \n",
      " re_lu (ReLU)                (None, 27, 27, 64)        0         \n",
      "                                                                 \n",
      " batch_normalization (BatchN  (None, 27, 27, 64)       256       \n",
      " ormalization)                                                   \n",
      "                                                                 \n",
      " max_pooling2d (MaxPooling2D  (None, 13, 13, 64)       0         \n",
      " )                                                               \n",
      "                                                                 \n",
      " dropout (Dropout)           (None, 13, 13, 64)        0         \n",
      "                                                                 \n",
      " conv2d_1 (Conv2D)           (None, 12, 12, 32)        8224      \n",
      "                                                                 \n",
      " re_lu_1 (ReLU)              (None, 12, 12, 32)        0         \n",
      "                                                                 \n",
      " batch_normalization_1 (Batc  (None, 12, 12, 32)       128       \n",
      " hNormalization)                                                 \n",
      "                                                                 \n",
      " max_pooling2d_1 (MaxPooling  (None, 6, 6, 32)         0         \n",
      " 2D)                                                             \n",
      "                                                                 \n",
      " dropout_1 (Dropout)         (None, 6, 6, 32)          0         \n",
      "                                                                 \n",
      " flatten (Flatten)           (None, 1152)              0         \n",
      "                                                                 \n",
      " dense (Dense)               (None, 10)                11530     \n",
      "                                                                 \n",
      "=================================================================\n",
      "Total params: 20,458\n",
      "Trainable params: 20,266\n",
      "Non-trainable params: 192\n",
      "_________________________________________________________________\n"
     ]
    }
   ],
   "source": [
    "Model = Classifier_model((28,28,1))\n",
    "Model.compile(optimizer = 'adam', loss = 'categorical_crossentropy', metrics = ['accuracy'])\n",
    "Model.summary()"
   ]
  },
  {
   "cell_type": "markdown",
   "metadata": {},
   "source": [
    "<h3>Training the Model</h3>"
   ]
  },
  {
   "cell_type": "code",
   "execution_count": 6,
   "metadata": {},
   "outputs": [
    {
     "name": "stdout",
     "output_type": "stream",
     "text": [
      "/device:GPU:0\n",
      "Epoch 1/20\n",
      "938/938 [==============================] - 8s 5ms/step - loss: 0.4856 - accuracy: 0.8308 - val_loss: 0.3757 - val_accuracy: 0.8634\n",
      "Epoch 2/20\n",
      "938/938 [==============================] - 4s 4ms/step - loss: 0.3434 - accuracy: 0.8773 - val_loss: 0.3539 - val_accuracy: 0.8692\n",
      "Epoch 3/20\n",
      "938/938 [==============================] - 4s 4ms/step - loss: 0.3058 - accuracy: 0.8895 - val_loss: 0.3170 - val_accuracy: 0.8883\n",
      "Epoch 4/20\n",
      "938/938 [==============================] - 4s 4ms/step - loss: 0.2843 - accuracy: 0.8971 - val_loss: 0.3232 - val_accuracy: 0.8918\n",
      "Epoch 5/20\n",
      "938/938 [==============================] - 4s 4ms/step - loss: 0.2669 - accuracy: 0.9036 - val_loss: 0.3924 - val_accuracy: 0.8502\n",
      "Epoch 6/20\n",
      "938/938 [==============================] - 4s 5ms/step - loss: 0.2559 - accuracy: 0.9072 - val_loss: 0.3400 - val_accuracy: 0.8727\n",
      "Epoch 7/20\n",
      "938/938 [==============================] - 4s 4ms/step - loss: 0.2461 - accuracy: 0.9118 - val_loss: 0.3765 - val_accuracy: 0.8595\n",
      "Epoch 8/20\n",
      "938/938 [==============================] - 4s 4ms/step - loss: 0.2403 - accuracy: 0.9124 - val_loss: 0.3230 - val_accuracy: 0.8844\n",
      "Epoch 9/20\n",
      "938/938 [==============================] - 4s 4ms/step - loss: 0.2358 - accuracy: 0.9139 - val_loss: 0.3401 - val_accuracy: 0.8737\n",
      "Epoch 10/20\n",
      "938/938 [==============================] - 4s 5ms/step - loss: 0.2303 - accuracy: 0.9159 - val_loss: 0.2760 - val_accuracy: 0.9072\n",
      "Epoch 11/20\n",
      "938/938 [==============================] - 4s 5ms/step - loss: 0.2247 - accuracy: 0.9183 - val_loss: 0.2922 - val_accuracy: 0.8952\n",
      "Epoch 12/20\n",
      "938/938 [==============================] - 4s 4ms/step - loss: 0.2217 - accuracy: 0.9193 - val_loss: 0.2722 - val_accuracy: 0.9056\n",
      "Epoch 13/20\n",
      "938/938 [==============================] - 4s 4ms/step - loss: 0.2180 - accuracy: 0.9192 - val_loss: 0.3136 - val_accuracy: 0.8899\n",
      "Epoch 14/20\n",
      "938/938 [==============================] - 4s 5ms/step - loss: 0.2154 - accuracy: 0.9214 - val_loss: 0.2697 - val_accuracy: 0.9044\n",
      "Epoch 15/20\n",
      "938/938 [==============================] - 4s 4ms/step - loss: 0.2125 - accuracy: 0.9223 - val_loss: 0.2602 - val_accuracy: 0.9089\n",
      "Epoch 16/20\n",
      "938/938 [==============================] - 4s 5ms/step - loss: 0.2122 - accuracy: 0.9222 - val_loss: 0.2783 - val_accuracy: 0.9014\n",
      "Epoch 17/20\n",
      "938/938 [==============================] - 4s 4ms/step - loss: 0.2067 - accuracy: 0.9239 - val_loss: 0.2783 - val_accuracy: 0.9002\n",
      "Epoch 18/20\n",
      "938/938 [==============================] - 4s 4ms/step - loss: 0.2045 - accuracy: 0.9255 - val_loss: 0.2590 - val_accuracy: 0.9093\n",
      "Epoch 19/20\n",
      "938/938 [==============================] - 4s 4ms/step - loss: 0.2020 - accuracy: 0.9259 - val_loss: 0.2539 - val_accuracy: 0.9101\n",
      "Epoch 20/20\n",
      "938/938 [==============================] - 4s 4ms/step - loss: 0.2009 - accuracy: 0.9255 - val_loss: 0.2730 - val_accuracy: 0.9104\n"
     ]
    }
   ],
   "source": [
    "device_name = tf.test.gpu_device_name()\n",
    "print(device_name)\n",
    "\n",
    "with tf.device('/device:GPU:0'):\n",
    "    history = Model.fit(train_datset, epochs = 20, validation_data = test_datset)\n"
   ]
  },
  {
   "cell_type": "markdown",
   "metadata": {},
   "source": [
    "<h3>Visualizing Model Loss and Model Accuracy over training</h3>"
   ]
  },
  {
   "cell_type": "code",
   "execution_count": 7,
   "metadata": {},
   "outputs": [
    {
     "data": {
      "text/plain": [
       "<Figure size 432x288 with 0 Axes>"
      ]
     },
     "execution_count": 7,
     "metadata": {},
     "output_type": "execute_result"
    },
    {
     "data": {
      "image/png": "[encoded data removed]",
      "text/plain": [
       "<Figure size 432x288 with 1 Axes>"
      ]
     },
     "metadata": {
      "needs_background": "light"
     },
     "output_type": "display_data"
    },
    {
     "data": {
      "image/png": "[encoded data removed]",
      "text/plain": [
       "<Figure size 432x288 with 1 Axes>"
      ]
     },
     "metadata": {
      "needs_background": "light"
     },
     "output_type": "display_data"
    },
    {
     "data": {
      "text/plain": [
       "<Figure size 432x288 with 0 Axes>"
      ]
     },
     "metadata": {},
     "output_type": "display_data"
    }
   ],
   "source": [
    "import pandas as pd\n",
    "\n",
    "history = pd.DataFrame(history.history)\n",
    "\n",
    "history.rename(columns = {'loss':'training loss', 'val_loss':'validation loss', 'accuracy':'training accuracy', 'val_accuracy': 'validation accuracy'}, inplace=True)\n",
    "\n",
    "plt.subplot(2,1,1)\n",
    "plt.plot(history['training loss'], label = 'training loss')\n",
    "plt.plot(history['validation loss'], label = 'validation loss')\n",
    "plt.title('Model Loss')\n",
    "plt.xlabel('epochs')\n",
    "plt.ylabel('loss')\n",
    "plt.legend(loc = 'upper right')\n",
    "plt.figure(figsize=(6,4))\n",
    "\n",
    "\n",
    "plt.subplot(2,1,2)\n",
    "plt.plot(history['training accuracy'], label = 'training accuracy')\n",
    "plt.plot(history['validation accuracy'], label = 'validation accuracy')\n",
    "plt.title('Model Accuracy')\n",
    "plt.xlabel('epochs')\n",
    "plt.ylabel('accuracy')\n",
    "plt.legend(loc = 'upper right')\n",
    "plt.figure(figsize=(6,4))"
   ]
  },
  {
   "cell_type": "markdown",
   "metadata": {},
   "source": [
    "<h3>Saving the Model</h3>"
   ]
  },
  {
   "cell_type": "code",
   "execution_count": 8,
   "metadata": {},
   "outputs": [
    {
     "name": "stderr",
     "output_type": "stream",
     "text": [
      "WARNING:absl:Found untraced functions such as _jit_compiled_convolution_op, _jit_compiled_convolution_op while saving (showing 2 of 2). These functions will not be directly callable after loading.\n"
     ]
    },
    {
     "name": "stdout",
     "output_type": "stream",
     "text": [
      "INFO:tensorflow:Assets written to: Model~v1.1\\assets\n"
     ]
    },
    {
     "name": "stderr",
     "output_type": "stream",
     "text": [
      "INFO:tensorflow:Assets written to: Model~v1.1\\assets\n"
     ]
    }
   ],
   "source": [
    "Model.save('Model~v1.1')"
   ]
  },
  {
   "cell_type": "markdown",
   "metadata": {},
   "source": [
    "<h3>Notes for the first v1.1 of the Model</h3>\n",
    "\n",
    "The effects of dropout were significant, less variance wa acheived. Later, I will increase the layers in the CNN to reduce bias. Also, I will increase the number of epochs."
   ]
  }
 ],
 "metadata": {
  "interpreter": {
   "hash": "602c94c5e625c8fc67b89b274f9eced6f49a7ae35691cfd2571de527b0559566"
  },
  "kernelspec": {
   "display_name": "Python 3.10.0 ('tensorflow')",
   "language": "python",
   "name": "python3"
  },
  "language_info": {
   "codemirror_mode": {
    "name": "ipython",
    "version": 3
   },
   "file_extension": ".py",
   "mimetype": "text/x-python",
   "name": "python",
   "nbconvert_exporter": "python",
   "pygments_lexer": "ipython3",
   "version": "3.10.0"
  },
  "orig_nbformat": 4
 },
 "nbformat": 4,
 "nbformat_minor": 2
}
