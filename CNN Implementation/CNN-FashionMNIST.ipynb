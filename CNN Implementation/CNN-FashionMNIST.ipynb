{
  "cells": [
    {
      "cell_type": "code",
      "execution_count": null,
      "metadata": {
        "id": "KkskOxCfU_oq"
      },
      "outputs": [],
      "source": [
        "import tensorflow as tf\n",
        "from tensorflow import keras\n",
        "import numpy as np\n",
        "from matplotlib import pyplot as plt\n",
        "from keras.datasets import fashion_mnist as fmnist\n",
        "from keras.layers import Dense, Flatten, Conv2D, MaxPool2D, LeakyReLU, BatchNormalization, Dropout\n"
      ]
    },
    {
      "cell_type": "markdown",
      "metadata": {
        "id": "guJweNNTU_ot"
      },
      "source": [
        "<h3>Loading the train test splits for fashion_mnist</h3>"
      ]
    },
    {
      "cell_type": "code",
      "execution_count": null,
      "metadata": {
        "colab": {
          "base_uri": "https://localhost:8080/"
        },
        "id": "lEMVFgoVU_ou",
        "outputId": "f3fa8ad6-8f14-4e7c-bfd9-6340d3520293"
      },
      "outputs": [
        {
          "output_type": "stream",
          "name": "stdout",
          "text": [
            "Downloading data from https://storage.googleapis.com/tensorflow/tf-keras-datasets/train-labels-idx1-ubyte.gz\n",
            "32768/29515 [=================================] - 0s 0us/step\n",
            "40960/29515 [=========================================] - 0s 0us/step\n",
            "Downloading data from https://storage.googleapis.com/tensorflow/tf-keras-datasets/train-images-idx3-ubyte.gz\n",
            "26427392/26421880 [==============================] - 0s 0us/step\n",
            "26435584/26421880 [==============================] - 0s 0us/step\n",
            "Downloading data from https://storage.googleapis.com/tensorflow/tf-keras-datasets/t10k-labels-idx1-ubyte.gz\n",
            "16384/5148 [===============================================================================================] - 0s 0us/step\n",
            "Downloading data from https://storage.googleapis.com/tensorflow/tf-keras-datasets/t10k-images-idx3-ubyte.gz\n",
            "4423680/4422102 [==============================] - 0s 0us/step\n",
            "4431872/4422102 [==============================] - 0s 0us/step\n",
            "(60000, 28, 28)\n"
          ]
        }
      ],
      "source": [
        "(train_X, train_y), (test_X, test_y) = fmnist.load_data()\n",
        "print(np.shape(train_X))"
      ]
    },
    {
      "cell_type": "markdown",
      "metadata": {
        "id": "5zkIwjBVU_ov"
      },
      "source": [
        "<h3>Preprocessing data</h3>"
      ]
    },
    {
      "cell_type": "code",
      "execution_count": null,
      "metadata": {
        "id": "vKwBKNsVU_ov"
      },
      "outputs": [],
      "source": [
        "def normalize(image):\n",
        "    \n",
        "    image = tf.cast(image, dtype=float)/255\n",
        "\n",
        "    return image\n",
        "\n",
        "def one_hot_matrix(labels, depth = 10):\n",
        "    \n",
        "    one_hot = tf.reshape(tf.one_hot(labels, depth, axis = 0), [-1,])\n",
        "    \n",
        "    return one_hot\n",
        "\n",
        "train_X = tf.data.Dataset.from_tensor_slices(train_X)\n",
        "train_y = tf.data.Dataset.from_tensor_slices(train_y)\n",
        "\n",
        "test_X = tf.data.Dataset.from_tensor_slices(test_X)\n",
        "test_y = tf.data.Dataset.from_tensor_slices(test_y)\n",
        "\n",
        "new_train_X = train_X.map(normalize)\n",
        "new_test_X = test_X.map(normalize)\n",
        "\n",
        "new_train_y = train_y.map(one_hot_matrix)\n",
        "new_test_y = test_y.map(one_hot_matrix)\n",
        "\n",
        "train_datset = tf.data.Dataset.zip((new_train_X, new_train_y)).batch(64).prefetch(6)\n",
        "test_datset = tf.data.Dataset.zip((new_test_X, new_test_y)).batch(64).prefetch(6)\n"
      ]
    },
    {
      "cell_type": "markdown",
      "source": [
        "<h3>Conv Block</h3>"
      ],
      "metadata": {
        "id": "L0Xy2qkk8Fsj"
      }
    },
    {
      "cell_type": "code",
      "source": [
        "def ConvBlock(prev, filter_size, num_filters, drop = True, padding = 'valid', pool = True):\n",
        "\n",
        "  X = Conv2D(num_filters, kernel_size = (filter_size,filter_size), strides = (1,1), use_bias = True, padding = padding, kernel_initializer = 'glorot_normal', kernel_regularizer = 'l2')(prev)\n",
        "\n",
        "  X = LeakyReLU()(X)\n",
        "\n",
        "  X = BatchNormalization(axis = 3, trainable = True)(X)\n",
        "\n",
        "  if pool == True:\n",
        "    X = MaxPool2D(pool_size= (2,2), strides = (2,2))(X)\n",
        "\n",
        "  if drop == True:\n",
        "    X = Dropout(0.2)(X)\n",
        "\n",
        "  return X"
      ],
      "metadata": {
        "id": "rQRKfBpH4wvH"
      },
      "execution_count": 20,
      "outputs": []
    },
    {
      "cell_type": "markdown",
      "metadata": {
        "id": "ZZM0juXmU_ow"
      },
      "source": [
        "<h3>Defining the Model</h3>"
      ]
    },
    {
      "cell_type": "code",
      "execution_count": 21,
      "metadata": {
        "id": "7YrFPYVbU_ow"
      },
      "outputs": [],
      "source": [
        "def Classifier_model(input_shape):\n",
        "\n",
        "  input_img = tf.keras.Input(shape = input_shape)\n",
        "\n",
        "  CBlock1 = ConvBlock(input_img, filter_size=4, num_filters=256, padding='same')\n",
        "\n",
        "  CBlock2 = ConvBlock(CBlock1, filter_size=4, num_filters=128, pool=False)\n",
        "\n",
        "  CBlock3 = ConvBlock(CBlock2, filter_size=2, num_filters=128, padding='same')\n",
        "\n",
        "  CBlock4 = ConvBlock(CBlock3, filter_size=2, num_filters=64)\n",
        "\n",
        "  Flat = Flatten()(CBlock4)\n",
        "\n",
        "  outputs = Dense(units = 10, activation = 'softmax')(Flat)\n",
        "\n",
        "  model = tf.keras.Model(inputs = input_img, outputs = outputs)   \n",
        "\n",
        "  return model\n"
      ]
    },
    {
      "cell_type": "markdown",
      "metadata": {
        "id": "UmPd6inmU_ox"
      },
      "source": [
        "<h3>Creating the Model Object</h3>"
      ]
    },
    {
      "cell_type": "code",
      "execution_count": 22,
      "metadata": {
        "colab": {
          "base_uri": "https://localhost:8080/"
        },
        "id": "k7lM-IcHU_ox",
        "outputId": "7c263196-fecb-4dee-93ec-7d9c4f58c5f4"
      },
      "outputs": [
        {
          "output_type": "stream",
          "name": "stdout",
          "text": [
            "Model: \"model_1\"\n",
            "_________________________________________________________________\n",
            " Layer (type)                Output Shape              Param #   \n",
            "=================================================================\n",
            " input_3 (InputLayer)        [(None, 28, 28, 1)]       0         \n",
            "                                                                 \n",
            " conv2d_4 (Conv2D)           (None, 28, 28, 256)       4352      \n",
            "                                                                 \n",
            " leaky_re_lu_4 (LeakyReLU)   (None, 28, 28, 256)       0         \n",
            "                                                                 \n",
            " batch_normalization_4 (Batc  (None, 28, 28, 256)      1024      \n",
            " hNormalization)                                                 \n",
            "                                                                 \n",
            " max_pooling2d_3 (MaxPooling  (None, 14, 14, 256)      0         \n",
            " 2D)                                                             \n",
            "                                                                 \n",
            " dropout_4 (Dropout)         (None, 14, 14, 256)       0         \n",
            "                                                                 \n",
            " conv2d_5 (Conv2D)           (None, 11, 11, 128)       524416    \n",
            "                                                                 \n",
            " leaky_re_lu_5 (LeakyReLU)   (None, 11, 11, 128)       0         \n",
            "                                                                 \n",
            " batch_normalization_5 (Batc  (None, 11, 11, 128)      512       \n",
            " hNormalization)                                                 \n",
            "                                                                 \n",
            " dropout_5 (Dropout)         (None, 11, 11, 128)       0         \n",
            "                                                                 \n",
            " conv2d_6 (Conv2D)           (None, 11, 11, 128)       65664     \n",
            "                                                                 \n",
            " leaky_re_lu_6 (LeakyReLU)   (None, 11, 11, 128)       0         \n",
            "                                                                 \n",
            " batch_normalization_6 (Batc  (None, 11, 11, 128)      512       \n",
            " hNormalization)                                                 \n",
            "                                                                 \n",
            " max_pooling2d_4 (MaxPooling  (None, 5, 5, 128)        0         \n",
            " 2D)                                                             \n",
            "                                                                 \n",
            " dropout_6 (Dropout)         (None, 5, 5, 128)         0         \n",
            "                                                                 \n",
            " conv2d_7 (Conv2D)           (None, 4, 4, 64)          32832     \n",
            "                                                                 \n",
            " leaky_re_lu_7 (LeakyReLU)   (None, 4, 4, 64)          0         \n",
            "                                                                 \n",
            " batch_normalization_7 (Batc  (None, 4, 4, 64)         256       \n",
            " hNormalization)                                                 \n",
            "                                                                 \n",
            " max_pooling2d_5 (MaxPooling  (None, 2, 2, 64)         0         \n",
            " 2D)                                                             \n",
            "                                                                 \n",
            " dropout_7 (Dropout)         (None, 2, 2, 64)          0         \n",
            "                                                                 \n",
            " flatten_1 (Flatten)         (None, 256)               0         \n",
            "                                                                 \n",
            " dense_1 (Dense)             (None, 10)                2570      \n",
            "                                                                 \n",
            "=================================================================\n",
            "Total params: 632,138\n",
            "Trainable params: 630,986\n",
            "Non-trainable params: 1,152\n",
            "_________________________________________________________________\n"
          ]
        }
      ],
      "source": [
        "Model = Classifier_model((28,28,1))\n",
        "Model.compile(optimizer = 'adam', loss = 'categorical_crossentropy', metrics = ['accuracy'])\n",
        "Model.summary()"
      ]
    },
    {
      "cell_type": "markdown",
      "metadata": {
        "id": "9DS7_6YOU_oy"
      },
      "source": [
        "<h3>Training the Model</h3>"
      ]
    },
    {
      "cell_type": "code",
      "execution_count": 23,
      "metadata": {
        "colab": {
          "base_uri": "https://localhost:8080/"
        },
        "id": "r34CnbL7U_oy",
        "outputId": "c722e584-91f0-4a4a-8e0d-a6caa3260d4e"
      },
      "outputs": [
        {
          "output_type": "stream",
          "name": "stdout",
          "text": [
            "/device:GPU:0\n",
            "Epoch 1/40\n",
            "938/938 [==============================] - 20s 20ms/step - loss: 1.5655 - accuracy: 0.7993 - val_loss: 0.7414 - val_accuracy: 0.8326\n",
            "Epoch 2/40\n",
            "938/938 [==============================] - 19s 20ms/step - loss: 0.6663 - accuracy: 0.8387 - val_loss: 0.9393 - val_accuracy: 0.7521\n",
            "Epoch 3/40\n",
            "938/938 [==============================] - 18s 19ms/step - loss: 0.6357 - accuracy: 0.8470 - val_loss: 0.9190 - val_accuracy: 0.7664\n",
            "Epoch 4/40\n",
            "938/938 [==============================] - 18s 19ms/step - loss: 0.6207 - accuracy: 0.8494 - val_loss: 0.8366 - val_accuracy: 0.7808\n",
            "Epoch 5/40\n",
            "938/938 [==============================] - 18s 19ms/step - loss: 0.6139 - accuracy: 0.8535 - val_loss: 0.9000 - val_accuracy: 0.7729\n",
            "Epoch 6/40\n",
            "938/938 [==============================] - 18s 19ms/step - loss: 0.5932 - accuracy: 0.8560 - val_loss: 0.7193 - val_accuracy: 0.8160\n",
            "Epoch 7/40\n",
            "938/938 [==============================] - 18s 19ms/step - loss: 0.5791 - accuracy: 0.8549 - val_loss: 0.6494 - val_accuracy: 0.8343\n",
            "Epoch 8/40\n",
            "938/938 [==============================] - 18s 19ms/step - loss: 0.5656 - accuracy: 0.8598 - val_loss: 0.5953 - val_accuracy: 0.8476\n",
            "Epoch 9/40\n",
            "938/938 [==============================] - 18s 19ms/step - loss: 0.5475 - accuracy: 0.8626 - val_loss: 0.5493 - val_accuracy: 0.8605\n",
            "Epoch 10/40\n",
            "938/938 [==============================] - 18s 19ms/step - loss: 0.5366 - accuracy: 0.8631 - val_loss: 0.5329 - val_accuracy: 0.8611\n",
            "Epoch 11/40\n",
            "938/938 [==============================] - 18s 19ms/step - loss: 0.5252 - accuracy: 0.8649 - val_loss: 0.5470 - val_accuracy: 0.8513\n",
            "Epoch 12/40\n",
            "938/938 [==============================] - 18s 19ms/step - loss: 0.5144 - accuracy: 0.8665 - val_loss: 0.5791 - val_accuracy: 0.8426\n",
            "Epoch 13/40\n",
            "938/938 [==============================] - 18s 19ms/step - loss: 0.5075 - accuracy: 0.8672 - val_loss: 0.5184 - val_accuracy: 0.8629\n",
            "Epoch 14/40\n",
            "938/938 [==============================] - 18s 19ms/step - loss: 0.5004 - accuracy: 0.8688 - val_loss: 0.5089 - val_accuracy: 0.8608\n",
            "Epoch 15/40\n",
            "938/938 [==============================] - 18s 19ms/step - loss: 0.4954 - accuracy: 0.8686 - val_loss: 0.5187 - val_accuracy: 0.8593\n",
            "Epoch 16/40\n",
            "938/938 [==============================] - 18s 19ms/step - loss: 0.4900 - accuracy: 0.8705 - val_loss: 0.4918 - val_accuracy: 0.8716\n",
            "Epoch 17/40\n",
            "938/938 [==============================] - 18s 19ms/step - loss: 0.4849 - accuracy: 0.8709 - val_loss: 0.5013 - val_accuracy: 0.8705\n",
            "Epoch 18/40\n",
            "938/938 [==============================] - 18s 19ms/step - loss: 0.4823 - accuracy: 0.8705 - val_loss: 0.4828 - val_accuracy: 0.8739\n",
            "Epoch 19/40\n",
            "938/938 [==============================] - 18s 19ms/step - loss: 0.4769 - accuracy: 0.8709 - val_loss: 0.4605 - val_accuracy: 0.8734\n",
            "Epoch 20/40\n",
            "938/938 [==============================] - 18s 19ms/step - loss: 0.4730 - accuracy: 0.8712 - val_loss: 0.4906 - val_accuracy: 0.8665\n",
            "Epoch 21/40\n",
            "938/938 [==============================] - 18s 19ms/step - loss: 0.4710 - accuracy: 0.8715 - val_loss: 0.4626 - val_accuracy: 0.8779\n",
            "Epoch 22/40\n",
            "938/938 [==============================] - 18s 19ms/step - loss: 0.4683 - accuracy: 0.8714 - val_loss: 0.5057 - val_accuracy: 0.8542\n",
            "Epoch 23/40\n",
            "938/938 [==============================] - 18s 19ms/step - loss: 0.4641 - accuracy: 0.8731 - val_loss: 0.4576 - val_accuracy: 0.8777\n",
            "Epoch 24/40\n",
            "938/938 [==============================] - 18s 19ms/step - loss: 0.4616 - accuracy: 0.8723 - val_loss: 0.4615 - val_accuracy: 0.8765\n",
            "Epoch 25/40\n",
            "938/938 [==============================] - 18s 19ms/step - loss: 0.4623 - accuracy: 0.8720 - val_loss: 0.4361 - val_accuracy: 0.8806\n",
            "Epoch 26/40\n",
            "938/938 [==============================] - 18s 19ms/step - loss: 0.4616 - accuracy: 0.8733 - val_loss: 0.4474 - val_accuracy: 0.8770\n",
            "Epoch 27/40\n",
            "938/938 [==============================] - 18s 19ms/step - loss: 0.4601 - accuracy: 0.8723 - val_loss: 0.4472 - val_accuracy: 0.8832\n",
            "Epoch 28/40\n",
            "938/938 [==============================] - 18s 19ms/step - loss: 0.4556 - accuracy: 0.8745 - val_loss: 0.4576 - val_accuracy: 0.8756\n",
            "Epoch 29/40\n",
            "938/938 [==============================] - 18s 19ms/step - loss: 0.4566 - accuracy: 0.8737 - val_loss: 0.4876 - val_accuracy: 0.8616\n",
            "Epoch 30/40\n",
            "938/938 [==============================] - 18s 19ms/step - loss: 0.4556 - accuracy: 0.8744 - val_loss: 0.4436 - val_accuracy: 0.8799\n",
            "Epoch 31/40\n",
            "938/938 [==============================] - 18s 19ms/step - loss: 0.4547 - accuracy: 0.8740 - val_loss: 0.4420 - val_accuracy: 0.8821\n",
            "Epoch 32/40\n",
            "938/938 [==============================] - 18s 19ms/step - loss: 0.4548 - accuracy: 0.8742 - val_loss: 0.4350 - val_accuracy: 0.8805\n",
            "Epoch 33/40\n",
            "938/938 [==============================] - 18s 19ms/step - loss: 0.4529 - accuracy: 0.8734 - val_loss: 0.4509 - val_accuracy: 0.8735\n",
            "Epoch 34/40\n",
            "938/938 [==============================] - 18s 19ms/step - loss: 0.4485 - accuracy: 0.8761 - val_loss: 0.4179 - val_accuracy: 0.8883\n",
            "Epoch 35/40\n",
            "938/938 [==============================] - 18s 19ms/step - loss: 0.4536 - accuracy: 0.8738 - val_loss: 0.4454 - val_accuracy: 0.8783\n",
            "Epoch 36/40\n",
            "938/938 [==============================] - 18s 19ms/step - loss: 0.4453 - accuracy: 0.8764 - val_loss: 0.4346 - val_accuracy: 0.8833\n",
            "Epoch 37/40\n",
            "938/938 [==============================] - 18s 19ms/step - loss: 0.4506 - accuracy: 0.8732 - val_loss: 0.4708 - val_accuracy: 0.8689\n",
            "Epoch 38/40\n",
            "938/938 [==============================] - 18s 19ms/step - loss: 0.4505 - accuracy: 0.8745 - val_loss: 0.4343 - val_accuracy: 0.8808\n",
            "Epoch 39/40\n",
            "938/938 [==============================] - 18s 19ms/step - loss: 0.4500 - accuracy: 0.8746 - val_loss: 0.4397 - val_accuracy: 0.8787\n",
            "Epoch 40/40\n",
            "938/938 [==============================] - 18s 19ms/step - loss: 0.4515 - accuracy: 0.8745 - val_loss: 0.4390 - val_accuracy: 0.8772\n"
          ]
        }
      ],
      "source": [
        "device_name = tf.test.gpu_device_name()\n",
        "print(device_name)\n",
        "\n",
        "with tf.device('/device:GPU:0'):\n",
        "    history = Model.fit(train_datset, epochs = 40, validation_data = test_datset)\n"
      ]
    },
    {
      "cell_type": "markdown",
      "metadata": {
        "id": "IPmw8P8EU_oy"
      },
      "source": [
        "<h3>Visualizing Model Loss and Model Accuracy over training</h3>"
      ]
    },
    {
      "cell_type": "code",
      "execution_count": 24,
      "metadata": {
        "colab": {
          "base_uri": "https://localhost:8080/",
          "height": 530
        },
        "id": "YaxpKTI0U_oz",
        "outputId": "397e8dde-4104-448d-b151-e3dab3d9ae45"
      },
      "outputs": [
        {
          "output_type": "execute_result",
          "data": {
            "text/plain": [
              "<matplotlib.legend.Legend at 0x7f92700b0c50>"
            ]
          },
          "metadata": {},
          "execution_count": 24
        },
        {
          "output_type": "display_data",
          "data": {
            "text/plain": [
              "<Figure size 576x576 with 2 Axes>"
            ],
            "image/png": "[encoded data removed]"
          },
          "metadata": {
            "needs_background": "light"
          }
        }
      ],
      "source": [
        "import pandas as pd\n",
        "\n",
        "history = pd.DataFrame(history.history)\n",
        "\n",
        "history.rename(columns = {'loss':'training loss', 'val_loss':'validation loss', 'accuracy':'training accuracy', 'val_accuracy': 'validation accuracy'}, inplace=True)\n",
        "\n",
        "plt.figure(figsize=(8,8))\n",
        "plt.subplot(2,1,1)\n",
        "plt.plot(history['training loss'], label = 'training loss')\n",
        "plt.plot(history['validation loss'], label = 'validation loss')\n",
        "plt.title('Model Loss')\n",
        "plt.ylabel('loss')\n",
        "plt.legend(loc = 'upper right')\n",
        "\n",
        "plt.subplot(2,1,2)\n",
        "plt.plot(history['training accuracy'], label = 'training accuracy')\n",
        "plt.plot(history['validation accuracy'], label = 'validation accuracy')\n",
        "plt.title('Model Accuracy')\n",
        "plt.xlabel('epoch')\n",
        "plt.ylabel('accuracy')\n",
        "plt.legend(loc = 'lower right')\n"
      ]
    },
    {
      "cell_type": "markdown",
      "metadata": {
        "id": "nyGpgS56U_oz"
      },
      "source": [
        "<h3>Saving the Model</h3>"
      ]
    },
    {
      "cell_type": "code",
      "source": [
        "Model.save('Model')"
      ],
      "metadata": {
        "colab": {
          "base_uri": "https://localhost:8080/"
        },
        "id": "r4ys0TAhLbkS",
        "outputId": "4f4588de-62f9-4126-ac52-4dd1b26a28ec"
      },
      "execution_count": 25,
      "outputs": [
        {
          "output_type": "stream",
          "name": "stdout",
          "text": [
            "INFO:tensorflow:Assets written to: Model/assets\n"
          ]
        }
      ]
    },
    {
      "cell_type": "code",
      "source": [
        "!zip -r /content/Model.zip /content/Model"
      ],
      "metadata": {
        "colab": {
          "base_uri": "https://localhost:8080/"
        },
        "id": "Sk9A5OI1mH5U",
        "outputId": "887361fa-bc23-4d6f-a51f-be18d3605cd3"
      },
      "execution_count": 26,
      "outputs": [
        {
          "output_type": "stream",
          "name": "stdout",
          "text": [
            "  adding: content/Model/ (stored 0%)\n",
            "  adding: content/Model/saved_model.pb (deflated 90%)\n",
            "  adding: content/Model/keras_metadata.pb (deflated 93%)\n",
            "  adding: content/Model/assets/ (stored 0%)\n",
            "  adding: content/Model/variables/ (stored 0%)\n",
            "  adding: content/Model/variables/variables.data-00000-of-00001 (deflated 5%)\n",
            "  adding: content/Model/variables/variables.index (deflated 72%)\n"
          ]
        }
      ]
    },
    {
      "cell_type": "markdown",
      "metadata": {
        "id": "Ho_nONx3U_oz"
      },
      "source": [
        "<h3>Notes for the first v2.1 of the Model</h3>\n",
        "\n",
        "I increased the regularization to solve the variance problem in the previous version of the model. But, I may have added a loot of regularization to the model which led to an increased bias. Next, I will try decreasing the regularization to increase the performance and later, maybe using ResNet blocks."
      ]
    }
  ],
  "metadata": {
    "interpreter": {
      "hash": "602c94c5e625c8fc67b89b274f9eced6f49a7ae35691cfd2571de527b0559566"
    },
    "kernelspec": {
      "display_name": "Python 3.10.0 ('tensorflow')",
      "language": "python",
      "name": "python3"
    },
    "language_info": {
      "codemirror_mode": {
        "name": "ipython",
        "version": 3
      },
      "file_extension": ".py",
      "mimetype": "text/x-python",
      "name": "python",
      "nbconvert_exporter": "python",
      "pygments_lexer": "ipython3",
      "version": "3.10.0"
    },
    "orig_nbformat": 4,
    "colab": {
      "name": "CNN-FashionMNIST.ipynb",
      "provenance": []
    },
    "accelerator": "GPU"
  },
  "nbformat": 4,
  "nbformat_minor": 0
}