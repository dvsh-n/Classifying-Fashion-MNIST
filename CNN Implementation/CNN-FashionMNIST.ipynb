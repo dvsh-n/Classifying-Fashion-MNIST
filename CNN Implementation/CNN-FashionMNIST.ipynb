{
 "cells": [
  {
   "cell_type": "code",
   "execution_count": 4,
   "metadata": {},
   "outputs": [],
   "source": [
    "import tensorflow as tf\n",
    "from tensorflow import keras\n",
    "import numpy as np\n",
    "from matplotlib import pyplot as plt\n",
    "from keras.datasets import fashion_mnist as fmnist\n",
    "from keras.layers import Dense, Flatten, Conv2D, MaxPool2D, ReLU\n"
   ]
  },
  {
   "cell_type": "markdown",
   "metadata": {},
   "source": [
    "<h3>Loading the train test splits for fashion_mnist</h3>"
   ]
  },
  {
   "cell_type": "code",
   "execution_count": 5,
   "metadata": {},
   "outputs": [
    {
     "name": "stdout",
     "output_type": "stream",
     "text": [
      "(60000, 28, 28)\n"
     ]
    }
   ],
   "source": [
    "(train_X, train_y), (test_X, test_y) = fmnist.load_data()\n",
    "print(np.shape(train_X))"
   ]
  },
  {
   "cell_type": "markdown",
   "metadata": {},
   "source": [
    "<h3>Preprocessing data</h3>"
   ]
  },
  {
   "cell_type": "code",
   "execution_count": 6,
   "metadata": {},
   "outputs": [],
   "source": [
    "def normalize(image):\n",
    "    \n",
    "    image = tf.cast(image, dtype=float)/255\n",
    "    # image = tf.reshape(image, [-1,])\n",
    "\n",
    "    return image\n",
    "\n",
    "def one_hot_matrix(labels, depth = 10):\n",
    "    \n",
    "    one_hot = tf.reshape(tf.one_hot(labels, depth, axis = 0), [-1,])\n",
    "    \n",
    "    return one_hot\n",
    "\n",
    "train_X = tf.data.Dataset.from_tensor_slices(train_X)\n",
    "train_y = tf.data.Dataset.from_tensor_slices(train_y)\n",
    "\n",
    "test_X = tf.data.Dataset.from_tensor_slices(test_X)\n",
    "test_y = tf.data.Dataset.from_tensor_slices(test_y)\n",
    "\n",
    "new_train_X = train_X.map(normalize)\n",
    "new_test_X = test_X.map(normalize)\n",
    "\n",
    "new_train_y = train_y.map(one_hot_matrix)\n",
    "new_test_y = test_y.map(one_hot_matrix)\n",
    "\n",
    "train_datset = tf.data.Dataset.zip((new_train_X, new_train_y))\n",
    "test_datset = tf.data.Dataset.zip((new_test_X, new_test_y))\n"
   ]
  },
  {
   "cell_type": "markdown",
   "metadata": {},
   "source": [
    "<h3>Defining the Model</h3>"
   ]
  },
  {
   "cell_type": "code",
   "execution_count": 7,
   "metadata": {},
   "outputs": [],
   "source": [
    "def Classifier_model(input_shape):\n",
    "\n",
    "    input_img = tf.keras.Input(shape = input_shape)\n",
    "\n",
    "    Z1 = Conv2D(20, kernel_size = (2,2), strides = (1,1), use_bias = True)(input_img)\n",
    "\n",
    "    A1 = ReLU()(Z1)\n",
    "\n",
    "    P1 = MaxPool2D(pool_size= (2,2), strides = (2,2))(A1)\n",
    "\n",
    "    Z2 = Conv2D(16, kernel_size = (2,2), strides = (1,1), use_bias= True)(P1)\n",
    "\n",
    "    A2 = ReLU()(Z2)\n",
    "\n",
    "    P2 = MaxPool2D(pool_size= (2,2), strides = (2,2))(A2)\n",
    "\n",
    "    F = Flatten()(P2)\n",
    "\n",
    "    outputs = Dense(units = 10, activation = 'softmax')(F)\n",
    "\n",
    "    model = tf.keras.Model(inputs = input_img, outputs = outputs)\n",
    "\n",
    "    return model\n"
   ]
  },
  {
   "cell_type": "markdown",
   "metadata": {},
   "source": [
    "<h3>Creating the Model Object</h3>"
   ]
  },
  {
   "cell_type": "code",
   "execution_count": 9,
   "metadata": {},
   "outputs": [
    {
     "name": "stdout",
     "output_type": "stream",
     "text": [
      "Model: \"model\"\n",
      "_________________________________________________________________\n",
      " Layer (type)                Output Shape              Param #   \n",
      "=================================================================\n",
      " input_2 (InputLayer)        [(None, 28, 28, 1)]       0         \n",
      "                                                                 \n",
      " conv2d_1 (Conv2D)           (None, 27, 27, 20)        100       \n",
      "                                                                 \n",
      " re_lu (ReLU)                (None, 27, 27, 20)        0         \n",
      "                                                                 \n",
      " max_pooling2d (MaxPooling2D  (None, 13, 13, 20)       0         \n",
      " )                                                               \n",
      "                                                                 \n",
      " conv2d_2 (Conv2D)           (None, 12, 12, 16)        1296      \n",
      "                                                                 \n",
      " re_lu_1 (ReLU)              (None, 12, 12, 16)        0         \n",
      "                                                                 \n",
      " max_pooling2d_1 (MaxPooling  (None, 6, 6, 16)         0         \n",
      " 2D)                                                             \n",
      "                                                                 \n",
      " flatten (Flatten)           (None, 576)               0         \n",
      "                                                                 \n",
      " dense (Dense)               (None, 10)                5770      \n",
      "                                                                 \n",
      "=================================================================\n",
      "Total params: 7,166\n",
      "Trainable params: 7,166\n",
      "Non-trainable params: 0\n",
      "_________________________________________________________________\n"
     ]
    }
   ],
   "source": [
    "Model = Classifier_model((28,28,1))\n",
    "Model.compile(optimizer = 'adam', loss = 'categorical_crossentropy', metrics = ['accuracy'])\n",
    "Model.summary()"
   ]
  },
  {
   "cell_type": "code",
   "execution_count": null,
   "metadata": {},
   "outputs": [],
   "source": []
  }
 ],
 "metadata": {
  "interpreter": {
   "hash": "602c94c5e625c8fc67b89b274f9eced6f49a7ae35691cfd2571de527b0559566"
  },
  "kernelspec": {
   "display_name": "Python 3.10.0 ('tensorflow')",
   "language": "python",
   "name": "python3"
  },
  "language_info": {
   "codemirror_mode": {
    "name": "ipython",
    "version": 3
   },
   "file_extension": ".py",
   "mimetype": "text/x-python",
   "name": "python",
   "nbconvert_exporter": "python",
   "pygments_lexer": "ipython3",
   "version": "3.10.0"
  },
  "orig_nbformat": 4
 },
 "nbformat": 4,
 "nbformat_minor": 2
}
