{
  "cells": [
    {
      "cell_type": "code",
      "execution_count": null,
      "metadata": {
        "id": "KkskOxCfU_oq"
      },
      "outputs": [],
      "source": [
        "import tensorflow as tf\n",
        "from tensorflow import keras\n",
        "import numpy as np\n",
        "from matplotlib import pyplot as plt\n",
        "from keras.datasets import fashion_mnist as fmnist\n",
        "from keras.layers import Dense, Flatten, Conv2D, MaxPool2D, ReLU, BatchNormalization, Dropout\n"
      ]
    },
    {
      "cell_type": "markdown",
      "metadata": {
        "id": "guJweNNTU_ot"
      },
      "source": [
        "<h3>Loading the train test splits for fashion_mnist</h3>"
      ]
    },
    {
      "cell_type": "code",
      "execution_count": null,
      "metadata": {
        "colab": {
          "base_uri": "https://localhost:8080/"
        },
        "id": "lEMVFgoVU_ou",
        "outputId": "c74eefa4-70f9-47b7-87fb-971d393f3991"
      },
      "outputs": [
        {
          "output_type": "stream",
          "name": "stdout",
          "text": [
            "(60000, 28, 28)\n"
          ]
        }
      ],
      "source": [
        "(train_X, train_y), (test_X, test_y) = fmnist.load_data()\n",
        "print(np.shape(train_X))"
      ]
    },
    {
      "cell_type": "markdown",
      "metadata": {
        "id": "5zkIwjBVU_ov"
      },
      "source": [
        "<h3>Preprocessing data</h3>"
      ]
    },
    {
      "cell_type": "code",
      "execution_count": null,
      "metadata": {
        "id": "vKwBKNsVU_ov"
      },
      "outputs": [],
      "source": [
        "def normalize(image):\n",
        "    \n",
        "    image = tf.cast(image, dtype=float)/255\n",
        "    # image = tf.reshape(image, [-1,])\n",
        "\n",
        "    return image\n",
        "\n",
        "def one_hot_matrix(labels, depth = 10):\n",
        "    \n",
        "    one_hot = tf.reshape(tf.one_hot(labels, depth, axis = 0), [-1,])\n",
        "    \n",
        "    return one_hot\n",
        "\n",
        "train_X = tf.data.Dataset.from_tensor_slices(train_X)\n",
        "train_y = tf.data.Dataset.from_tensor_slices(train_y)\n",
        "\n",
        "test_X = tf.data.Dataset.from_tensor_slices(test_X)\n",
        "test_y = tf.data.Dataset.from_tensor_slices(test_y)\n",
        "\n",
        "new_train_X = train_X.map(normalize)\n",
        "new_test_X = test_X.map(normalize)\n",
        "\n",
        "new_train_y = train_y.map(one_hot_matrix)\n",
        "new_test_y = test_y.map(one_hot_matrix)\n",
        "\n",
        "train_datset = tf.data.Dataset.zip((new_train_X, new_train_y)).batch(64).prefetch(6)\n",
        "test_datset = tf.data.Dataset.zip((new_test_X, new_test_y)).batch(64).prefetch(6)\n"
      ]
    },
    {
      "cell_type": "markdown",
      "metadata": {
        "id": "ZZM0juXmU_ow"
      },
      "source": [
        "<h3>Defining the Model</h3>"
      ]
    },
    {
      "cell_type": "code",
      "execution_count": null,
      "metadata": {
        "id": "7YrFPYVbU_ow"
      },
      "outputs": [],
      "source": [
        "def Classifier_model(input_shape):\n",
        "\n",
        "    input_img = tf.keras.Input(shape = input_shape)\n",
        "\n",
        "    # Part 1\n",
        "\n",
        "    X = Conv2D(256, kernel_size = (2,2), strides = (1,1), use_bias = True, padding='same')(input_img)\n",
        "\n",
        "    X = ReLU()(X)\n",
        "\n",
        "    X = BatchNormalization(axis = 3, trainable = True)(X)\n",
        "\n",
        "    X = MaxPool2D(pool_size= (2,2), strides = (2,2))(X)\n",
        "\n",
        "    X = Dropout(0.2)(X)\n",
        "\n",
        "    # Part 2\n",
        "\n",
        "    X = Conv2D(128, kernel_size = (2,2), strides = (1,1), use_bias= True, padding='same')(X)\n",
        "\n",
        "    X = ReLU()(X)\n",
        "\n",
        "    X = BatchNormalization(axis = 3, trainable = True)(X)\n",
        "\n",
        "    X = MaxPool2D(pool_size= (2,2), strides = (2,2))(X)\n",
        "\n",
        "    X = Dropout(0.2)(X)\n",
        "\n",
        "    # Part 3\n",
        "\n",
        "    X = Conv2D(64, kernel_size = (2,2), strides = (1,1), use_bias= True)(X)\n",
        "\n",
        "    X = ReLU()(X)\n",
        "\n",
        "    X = BatchNormalization(axis = 3, trainable = True)(X)\n",
        "\n",
        "    X = MaxPool2D(pool_size= (2,2), strides = (2,2))(X)\n",
        "\n",
        "    X = Dropout(0.2)(X)\n",
        "\n",
        "    X = Flatten()(X)\n",
        "\n",
        "    outputs = Dense(units = 10, activation = 'softmax')(X)\n",
        "\n",
        "    model = tf.keras.Model(inputs = input_img, outputs = outputs)\n",
        "\n",
        "    return model\n"
      ]
    },
    {
      "cell_type": "markdown",
      "metadata": {
        "id": "UmPd6inmU_ox"
      },
      "source": [
        "<h3>Creating the Model Object</h3>"
      ]
    },
    {
      "cell_type": "code",
      "execution_count": null,
      "metadata": {
        "colab": {
          "base_uri": "https://localhost:8080/"
        },
        "id": "k7lM-IcHU_ox",
        "outputId": "c46d3653-b0e4-4e46-c16f-27211add5088"
      },
      "outputs": [
        {
          "output_type": "stream",
          "name": "stdout",
          "text": [
            "Model: \"model_1\"\n",
            "_________________________________________________________________\n",
            " Layer (type)                Output Shape              Param #   \n",
            "=================================================================\n",
            " input_2 (InputLayer)        [(None, 28, 28, 1)]       0         \n",
            "                                                                 \n",
            " conv2d_3 (Conv2D)           (None, 28, 28, 256)       1280      \n",
            "                                                                 \n",
            " re_lu_3 (ReLU)              (None, 28, 28, 256)       0         \n",
            "                                                                 \n",
            " batch_normalization_3 (Batc  (None, 28, 28, 256)      1024      \n",
            " hNormalization)                                                 \n",
            "                                                                 \n",
            " max_pooling2d_3 (MaxPooling  (None, 14, 14, 256)      0         \n",
            " 2D)                                                             \n",
            "                                                                 \n",
            " dropout_3 (Dropout)         (None, 14, 14, 256)       0         \n",
            "                                                                 \n",
            " conv2d_4 (Conv2D)           (None, 14, 14, 128)       131200    \n",
            "                                                                 \n",
            " re_lu_4 (ReLU)              (None, 14, 14, 128)       0         \n",
            "                                                                 \n",
            " batch_normalization_4 (Batc  (None, 14, 14, 128)      512       \n",
            " hNormalization)                                                 \n",
            "                                                                 \n",
            " max_pooling2d_4 (MaxPooling  (None, 7, 7, 128)        0         \n",
            " 2D)                                                             \n",
            "                                                                 \n",
            " dropout_4 (Dropout)         (None, 7, 7, 128)         0         \n",
            "                                                                 \n",
            " conv2d_5 (Conv2D)           (None, 6, 6, 64)          32832     \n",
            "                                                                 \n",
            " re_lu_5 (ReLU)              (None, 6, 6, 64)          0         \n",
            "                                                                 \n",
            " batch_normalization_5 (Batc  (None, 6, 6, 64)         256       \n",
            " hNormalization)                                                 \n",
            "                                                                 \n",
            " max_pooling2d_5 (MaxPooling  (None, 3, 3, 64)         0         \n",
            " 2D)                                                             \n",
            "                                                                 \n",
            " dropout_5 (Dropout)         (None, 3, 3, 64)          0         \n",
            "                                                                 \n",
            " flatten_1 (Flatten)         (None, 576)               0         \n",
            "                                                                 \n",
            " dense_1 (Dense)             (None, 10)                5770      \n",
            "                                                                 \n",
            "=================================================================\n",
            "Total params: 172,874\n",
            "Trainable params: 171,978\n",
            "Non-trainable params: 896\n",
            "_________________________________________________________________\n"
          ]
        }
      ],
      "source": [
        "Model = Classifier_model((28,28,1))\n",
        "Model.compile(optimizer = 'adam', loss = 'categorical_crossentropy', metrics = ['accuracy'])\n",
        "Model.summary()"
      ]
    },
    {
      "cell_type": "markdown",
      "metadata": {
        "id": "9DS7_6YOU_oy"
      },
      "source": [
        "<h3>Training the Model</h3>"
      ]
    },
    {
      "cell_type": "code",
      "execution_count": null,
      "metadata": {
        "colab": {
          "base_uri": "https://localhost:8080/"
        },
        "id": "r34CnbL7U_oy",
        "outputId": "5c7cc74c-7efd-4078-c375-6b1f38a09bd9"
      },
      "outputs": [
        {
          "output_type": "stream",
          "name": "stdout",
          "text": [
            "/device:GPU:0\n",
            "Epoch 1/40\n",
            "938/938 [==============================] - 18s 17ms/step - loss: 0.5244 - accuracy: 0.8155 - val_loss: 0.3759 - val_accuracy: 0.8621\n",
            "Epoch 2/40\n",
            "938/938 [==============================] - 14s 15ms/step - loss: 0.3436 - accuracy: 0.8754 - val_loss: 0.3721 - val_accuracy: 0.8652\n",
            "Epoch 3/40\n",
            "938/938 [==============================] - 14s 15ms/step - loss: 0.3064 - accuracy: 0.8889 - val_loss: 0.3162 - val_accuracy: 0.8919\n",
            "Epoch 4/40\n",
            "938/938 [==============================] - 15s 16ms/step - loss: 0.2871 - accuracy: 0.8961 - val_loss: 0.2948 - val_accuracy: 0.8941\n",
            "Epoch 5/40\n",
            "938/938 [==============================] - 14s 15ms/step - loss: 0.2737 - accuracy: 0.9002 - val_loss: 0.2908 - val_accuracy: 0.8968\n",
            "Epoch 6/40\n",
            "938/938 [==============================] - 14s 15ms/step - loss: 0.2612 - accuracy: 0.9049 - val_loss: 0.3674 - val_accuracy: 0.8751\n",
            "Epoch 7/40\n",
            "938/938 [==============================] - 14s 15ms/step - loss: 0.2507 - accuracy: 0.9085 - val_loss: 0.5067 - val_accuracy: 0.8371\n",
            "Epoch 8/40\n",
            "938/938 [==============================] - 14s 15ms/step - loss: 0.2407 - accuracy: 0.9126 - val_loss: 0.2627 - val_accuracy: 0.9072\n",
            "Epoch 9/40\n",
            "938/938 [==============================] - 14s 15ms/step - loss: 0.2348 - accuracy: 0.9138 - val_loss: 0.2586 - val_accuracy: 0.9111\n",
            "Epoch 10/40\n",
            "938/938 [==============================] - 14s 15ms/step - loss: 0.2237 - accuracy: 0.9173 - val_loss: 0.2605 - val_accuracy: 0.9054\n",
            "Epoch 11/40\n",
            "938/938 [==============================] - 14s 15ms/step - loss: 0.2200 - accuracy: 0.9193 - val_loss: 0.4154 - val_accuracy: 0.8703\n",
            "Epoch 12/40\n",
            "938/938 [==============================] - 14s 15ms/step - loss: 0.2143 - accuracy: 0.9209 - val_loss: 0.2993 - val_accuracy: 0.8971\n",
            "Epoch 13/40\n",
            "938/938 [==============================] - 14s 15ms/step - loss: 0.2113 - accuracy: 0.9219 - val_loss: 0.4539 - val_accuracy: 0.8660\n",
            "Epoch 14/40\n",
            "938/938 [==============================] - 14s 15ms/step - loss: 0.2042 - accuracy: 0.9247 - val_loss: 0.3503 - val_accuracy: 0.8892\n",
            "Epoch 15/40\n",
            "938/938 [==============================] - 14s 15ms/step - loss: 0.1997 - accuracy: 0.9265 - val_loss: 0.3140 - val_accuracy: 0.8970\n",
            "Epoch 16/40\n",
            "938/938 [==============================] - 15s 16ms/step - loss: 0.1966 - accuracy: 0.9277 - val_loss: 0.2401 - val_accuracy: 0.9190\n",
            "Epoch 17/40\n",
            "938/938 [==============================] - 14s 15ms/step - loss: 0.1936 - accuracy: 0.9284 - val_loss: 0.2560 - val_accuracy: 0.9113\n",
            "Epoch 18/40\n",
            "938/938 [==============================] - 14s 15ms/step - loss: 0.1882 - accuracy: 0.9309 - val_loss: 0.3121 - val_accuracy: 0.8972\n",
            "Epoch 19/40\n",
            "938/938 [==============================] - 15s 16ms/step - loss: 0.1869 - accuracy: 0.9307 - val_loss: 0.3189 - val_accuracy: 0.8946\n",
            "Epoch 20/40\n",
            "938/938 [==============================] - 14s 15ms/step - loss: 0.1820 - accuracy: 0.9326 - val_loss: 0.2679 - val_accuracy: 0.9110\n",
            "Epoch 21/40\n",
            "938/938 [==============================] - 14s 15ms/step - loss: 0.1804 - accuracy: 0.9330 - val_loss: 0.2760 - val_accuracy: 0.9076\n",
            "Epoch 22/40\n",
            "938/938 [==============================] - 14s 15ms/step - loss: 0.1794 - accuracy: 0.9337 - val_loss: 0.2251 - val_accuracy: 0.9222\n",
            "Epoch 23/40\n",
            "938/938 [==============================] - 14s 15ms/step - loss: 0.1750 - accuracy: 0.9356 - val_loss: 0.2434 - val_accuracy: 0.9182\n",
            "Epoch 24/40\n",
            "938/938 [==============================] - 14s 15ms/step - loss: 0.1705 - accuracy: 0.9366 - val_loss: 0.5775 - val_accuracy: 0.8594\n",
            "Epoch 25/40\n",
            "938/938 [==============================] - 14s 15ms/step - loss: 0.1683 - accuracy: 0.9374 - val_loss: 0.2580 - val_accuracy: 0.9119\n",
            "Epoch 26/40\n",
            "938/938 [==============================] - 14s 15ms/step - loss: 0.1684 - accuracy: 0.9365 - val_loss: 0.3358 - val_accuracy: 0.8962\n",
            "Epoch 27/40\n",
            "938/938 [==============================] - 14s 15ms/step - loss: 0.1671 - accuracy: 0.9375 - val_loss: 0.3391 - val_accuracy: 0.8945\n",
            "Epoch 28/40\n",
            "938/938 [==============================] - 14s 15ms/step - loss: 0.1618 - accuracy: 0.9412 - val_loss: 0.4610 - val_accuracy: 0.8753\n",
            "Epoch 29/40\n",
            "938/938 [==============================] - 14s 15ms/step - loss: 0.1633 - accuracy: 0.9392 - val_loss: 0.4067 - val_accuracy: 0.8844\n",
            "Epoch 30/40\n",
            "938/938 [==============================] - 14s 15ms/step - loss: 0.1636 - accuracy: 0.9388 - val_loss: 0.3388 - val_accuracy: 0.8962\n",
            "Epoch 31/40\n",
            "938/938 [==============================] - 14s 15ms/step - loss: 0.1585 - accuracy: 0.9417 - val_loss: 0.2142 - val_accuracy: 0.9268\n",
            "Epoch 32/40\n",
            "938/938 [==============================] - 14s 15ms/step - loss: 0.1603 - accuracy: 0.9398 - val_loss: 1.1955 - val_accuracy: 0.8240\n",
            "Epoch 33/40\n",
            "938/938 [==============================] - 14s 15ms/step - loss: 0.1559 - accuracy: 0.9420 - val_loss: 0.3026 - val_accuracy: 0.9034\n",
            "Epoch 34/40\n",
            "938/938 [==============================] - 14s 15ms/step - loss: 0.1534 - accuracy: 0.9437 - val_loss: 0.4167 - val_accuracy: 0.8823\n",
            "Epoch 35/40\n",
            "938/938 [==============================] - 14s 15ms/step - loss: 0.1522 - accuracy: 0.9429 - val_loss: 0.2471 - val_accuracy: 0.9175\n",
            "Epoch 36/40\n",
            "938/938 [==============================] - 14s 15ms/step - loss: 0.1509 - accuracy: 0.9441 - val_loss: 0.2516 - val_accuracy: 0.9164\n",
            "Epoch 37/40\n",
            "938/938 [==============================] - 15s 16ms/step - loss: 0.1483 - accuracy: 0.9456 - val_loss: 0.2614 - val_accuracy: 0.9129\n",
            "Epoch 38/40\n",
            "938/938 [==============================] - 14s 15ms/step - loss: 0.1485 - accuracy: 0.9444 - val_loss: 0.2260 - val_accuracy: 0.9243\n",
            "Epoch 39/40\n",
            "938/938 [==============================] - 14s 15ms/step - loss: 0.1464 - accuracy: 0.9453 - val_loss: 0.2914 - val_accuracy: 0.9086\n",
            "Epoch 40/40\n",
            "938/938 [==============================] - 14s 15ms/step - loss: 0.1466 - accuracy: 0.9455 - val_loss: 0.3161 - val_accuracy: 0.9005\n"
          ]
        }
      ],
      "source": [
        "device_name = tf.test.gpu_device_name()\n",
        "print(device_name)\n",
        "\n",
        "with tf.device('/device:GPU:0'):\n",
        "    history = Model.fit(train_datset, epochs = 40, validation_data = test_datset)\n"
      ]
    },
    {
      "cell_type": "markdown",
      "metadata": {
        "id": "IPmw8P8EU_oy"
      },
      "source": [
        "<h3>Visualizing Model Loss and Model Accuracy over training</h3>"
      ]
    },
    {
      "cell_type": "code",
      "execution_count": null,
      "metadata": {
        "colab": {
          "base_uri": "https://localhost:8080/",
          "height": 530
        },
        "id": "YaxpKTI0U_oz",
        "outputId": "fc8d0f7e-4a14-4903-a6ef-0f5b617ca4e1"
      },
      "outputs": [
        {
          "output_type": "execute_result",
          "data": {
            "text/plain": [
              "<matplotlib.legend.Legend at 0x7f698a92b510>"
            ]
          },
          "metadata": {},
          "execution_count": 16
        },
        {
          "output_type": "display_data",
          "data": {
            "text/plain": [
              "<Figure size 576x576 with 2 Axes>"
            ],
            "image/png": "[encoded data removed]"
          },
          "metadata": {
            "needs_background": "light"
          }
        }
      ],
      "source": [
        "import pandas as pd\n",
        "\n",
        "history = pd.DataFrame(history.history)\n",
        "\n",
        "history.rename(columns = {'loss':'training loss', 'val_loss':'validation loss', 'accuracy':'training accuracy', 'val_accuracy': 'validation accuracy'}, inplace=True)\n",
        "\n",
        "plt.figure(figsize=(8,8))\n",
        "plt.subplot(2,1,1)\n",
        "plt.plot(history['training loss'], label = 'training loss')\n",
        "plt.plot(history['validation loss'], label = 'validation loss')\n",
        "plt.title('Model Loss')\n",
        "plt.ylabel('loss')\n",
        "plt.legend(loc = 'upper right')\n",
        "\n",
        "plt.subplot(2,1,2)\n",
        "plt.plot(history['training accuracy'], label = 'training accuracy')\n",
        "plt.plot(history['validation accuracy'], label = 'validation accuracy')\n",
        "plt.title('Model Accuracy')\n",
        "plt.xlabel('epoch')\n",
        "plt.ylabel('accuracy')\n",
        "plt.legend(loc = 'lower right')\n"
      ]
    },
    {
      "cell_type": "markdown",
      "metadata": {
        "id": "nyGpgS56U_oz"
      },
      "source": [
        "<h3>Saving the Model</h3>"
      ]
    },
    {
      "cell_type": "code",
      "source": [
        "Model.save('Model')"
      ],
      "metadata": {
        "colab": {
          "base_uri": "https://localhost:8080/"
        },
        "id": "r4ys0TAhLbkS",
        "outputId": "49645a8c-78e0-4a5a-c021-71b9f99a0485"
      },
      "execution_count": null,
      "outputs": [
        {
          "output_type": "stream",
          "name": "stdout",
          "text": [
            "INFO:tensorflow:Assets written to: Model/assets\n"
          ]
        }
      ]
    },
    {
      "cell_type": "code",
      "source": [
        "!zip -r /content/Model.zip /content/Model"
      ],
      "metadata": {
        "colab": {
          "base_uri": "https://localhost:8080/"
        },
        "id": "Sk9A5OI1mH5U",
        "outputId": "4a706463-843f-4f7c-d338-29ac011a2ee7"
      },
      "execution_count": 27,
      "outputs": [
        {
          "output_type": "stream",
          "name": "stdout",
          "text": [
            "updating: content/Model/ (stored 0%)\n",
            "updating: content/Model/.zip (stored 0%)\n",
            "updating: content/Model/assets/ (stored 0%)\n",
            "updating: content/Model/keras_metadata.pb (deflated 92%)\n",
            "updating: content/Model/variables/ (stored 0%)\n",
            "updating: content/Model/variables/variables.data-00000-of-00001 (deflated 7%)\n",
            "updating: content/Model/variables/variables.index (deflated 70%)\n",
            "updating: content/Model/saved_model.pb (deflated 90%)\n"
          ]
        }
      ]
    },
    {
      "cell_type": "markdown",
      "metadata": {
        "id": "Ho_nONx3U_oz"
      },
      "source": [
        "<h3>Notes for the first v2.0 of the Model</h3>\n",
        "\n",
        "Increasing the number of layers increased the noumber of trainable parameters, which increased the accuracy of the Model. Next, I will implement normal initialization. The Number of epochs also need to be increased as the loss fn did not plateau."
      ]
    }
  ],
  "metadata": {
    "interpreter": {
      "hash": "602c94c5e625c8fc67b89b274f9eced6f49a7ae35691cfd2571de527b0559566"
    },
    "kernelspec": {
      "display_name": "Python 3.10.0 ('tensorflow')",
      "language": "python",
      "name": "python3"
    },
    "language_info": {
      "codemirror_mode": {
        "name": "ipython",
        "version": 3
      },
      "file_extension": ".py",
      "mimetype": "text/x-python",
      "name": "python",
      "nbconvert_exporter": "python",
      "pygments_lexer": "ipython3",
      "version": "3.10.0"
    },
    "orig_nbformat": 4,
    "colab": {
      "name": "CNN-FashionMNIST.ipynb",
      "provenance": []
    },
    "accelerator": "GPU"
  },
  "nbformat": 4,
  "nbformat_minor": 0
}