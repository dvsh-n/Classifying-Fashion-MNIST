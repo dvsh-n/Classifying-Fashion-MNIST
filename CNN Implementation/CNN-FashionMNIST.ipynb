{
 "cells": [
  {
   "cell_type": "code",
   "execution_count": 1,
   "metadata": {},
   "outputs": [],
   "source": [
    "import tensorflow as tf\n",
    "from tensorflow import keras\n",
    "import numpy as np\n",
    "from matplotlib import pyplot as plt\n",
    "from keras.datasets import fashion_mnist as fmnist\n",
    "from keras.layers import Dense, Flatten, Conv2D, MaxPool2D, ReLU, BatchNormalization\n"
   ]
  },
  {
   "cell_type": "markdown",
   "metadata": {},
   "source": [
    "<h3>Loading the train test splits for fashion_mnist</h3>"
   ]
  },
  {
   "cell_type": "code",
   "execution_count": 2,
   "metadata": {},
   "outputs": [
    {
     "name": "stdout",
     "output_type": "stream",
     "text": [
      "(60000, 28, 28)\n"
     ]
    }
   ],
   "source": [
    "(train_X, train_y), (test_X, test_y) = fmnist.load_data()\n",
    "print(np.shape(train_X))"
   ]
  },
  {
   "cell_type": "markdown",
   "metadata": {},
   "source": [
    "<h3>Preprocessing data</h3>"
   ]
  },
  {
   "cell_type": "code",
   "execution_count": 3,
   "metadata": {},
   "outputs": [],
   "source": [
    "def normalize(image):\n",
    "    \n",
    "    image = tf.cast(image, dtype=float)/255\n",
    "    # image = tf.reshape(image, [-1,])\n",
    "\n",
    "    return image\n",
    "\n",
    "def one_hot_matrix(labels, depth = 10):\n",
    "    \n",
    "    one_hot = tf.reshape(tf.one_hot(labels, depth, axis = 0), [-1,])\n",
    "    \n",
    "    return one_hot\n",
    "\n",
    "train_X = tf.data.Dataset.from_tensor_slices(train_X)\n",
    "train_y = tf.data.Dataset.from_tensor_slices(train_y)\n",
    "\n",
    "test_X = tf.data.Dataset.from_tensor_slices(test_X)\n",
    "test_y = tf.data.Dataset.from_tensor_slices(test_y)\n",
    "\n",
    "new_train_X = train_X.map(normalize)\n",
    "new_test_X = test_X.map(normalize)\n",
    "\n",
    "new_train_y = train_y.map(one_hot_matrix)\n",
    "new_test_y = test_y.map(one_hot_matrix)\n",
    "\n",
    "train_datset = tf.data.Dataset.zip((new_train_X, new_train_y)).batch(64).prefetch(6)\n",
    "test_datset = tf.data.Dataset.zip((new_test_X, new_test_y)).batch(64).prefetch(6)\n"
   ]
  },
  {
   "cell_type": "markdown",
   "metadata": {},
   "source": [
    "<h3>Defining the Model</h3>"
   ]
  },
  {
   "cell_type": "code",
   "execution_count": 4,
   "metadata": {},
   "outputs": [],
   "source": [
    "def Classifier_model(input_shape):\n",
    "\n",
    "    input_img = tf.keras.Input(shape = input_shape)\n",
    "\n",
    "    Z1 = Conv2D(64, kernel_size = (2,2), strides = (1,1), use_bias = True)(input_img)\n",
    "\n",
    "    A1 = ReLU()(Z1)\n",
    "\n",
    "    B1 = BatchNormalization(axis = 3, trainable = True)(A1)\n",
    "\n",
    "    P1 = MaxPool2D(pool_size= (2,2), strides = (2,2))(B1)\n",
    "\n",
    "    Z2 = Conv2D(32, kernel_size = (2,2), strides = (1,1), use_bias= True)(P1)\n",
    "\n",
    "    A2 = ReLU()(Z2)\n",
    "\n",
    "    B2 = BatchNormalization(axis = 3, trainable = True)(A2)\n",
    "\n",
    "    P2 = MaxPool2D(pool_size= (2,2), strides = (2,2))(B2)\n",
    "\n",
    "    F = Flatten()(P2)\n",
    "\n",
    "    outputs = Dense(units = 10, activation = 'softmax')(F)\n",
    "\n",
    "    model = tf.keras.Model(inputs = input_img, outputs = outputs)\n",
    "\n",
    "    return model\n"
   ]
  },
  {
   "cell_type": "markdown",
   "metadata": {},
   "source": [
    "<h3>Creating the Model Object</h3>"
   ]
  },
  {
   "cell_type": "code",
   "execution_count": 5,
   "metadata": {},
   "outputs": [
    {
     "name": "stdout",
     "output_type": "stream",
     "text": [
      "Model: \"model\"\n",
      "_________________________________________________________________\n",
      " Layer (type)                Output Shape              Param #   \n",
      "=================================================================\n",
      " input_1 (InputLayer)        [(None, 28, 28, 1)]       0         \n",
      "                                                                 \n",
      " conv2d (Conv2D)             (None, 27, 27, 64)        320       \n",
      "                                                                 \n",
      " re_lu (ReLU)                (None, 27, 27, 64)        0         \n",
      "                                                                 \n",
      " batch_normalization (BatchN  (None, 27, 27, 64)       256       \n",
      " ormalization)                                                   \n",
      "                                                                 \n",
      " max_pooling2d (MaxPooling2D  (None, 13, 13, 64)       0         \n",
      " )                                                               \n",
      "                                                                 \n",
      " conv2d_1 (Conv2D)           (None, 12, 12, 32)        8224      \n",
      "                                                                 \n",
      " re_lu_1 (ReLU)              (None, 12, 12, 32)        0         \n",
      "                                                                 \n",
      " batch_normalization_1 (Batc  (None, 12, 12, 32)       128       \n",
      " hNormalization)                                                 \n",
      "                                                                 \n",
      " max_pooling2d_1 (MaxPooling  (None, 6, 6, 32)         0         \n",
      " 2D)                                                             \n",
      "                                                                 \n",
      " flatten (Flatten)           (None, 1152)              0         \n",
      "                                                                 \n",
      " dense (Dense)               (None, 10)                11530     \n",
      "                                                                 \n",
      "=================================================================\n",
      "Total params: 20,458\n",
      "Trainable params: 20,266\n",
      "Non-trainable params: 192\n",
      "_________________________________________________________________\n"
     ]
    }
   ],
   "source": [
    "Model = Classifier_model((28,28,1))\n",
    "Model.compile(optimizer = 'adam', loss = 'categorical_crossentropy', metrics = ['accuracy'])\n",
    "Model.summary()"
   ]
  },
  {
   "cell_type": "markdown",
   "metadata": {},
   "source": [
    "<h3>Training the Model</h3>"
   ]
  },
  {
   "cell_type": "code",
   "execution_count": 6,
   "metadata": {},
   "outputs": [
    {
     "name": "stdout",
     "output_type": "stream",
     "text": [
      "/device:GPU:0\n",
      "Epoch 1/20\n",
      "938/938 [==============================] - 7s 5ms/step - loss: 0.4212 - accuracy: 0.8509 - val_loss: 0.3584 - val_accuracy: 0.8776\n",
      "Epoch 2/20\n",
      "938/938 [==============================] - 4s 4ms/step - loss: 0.3070 - accuracy: 0.8906 - val_loss: 0.3409 - val_accuracy: 0.8783\n",
      "Epoch 3/20\n",
      "938/938 [==============================] - 4s 4ms/step - loss: 0.2739 - accuracy: 0.9024 - val_loss: 0.3420 - val_accuracy: 0.8817\n",
      "Epoch 4/20\n",
      "938/938 [==============================] - 4s 4ms/step - loss: 0.2522 - accuracy: 0.9091 - val_loss: 0.3148 - val_accuracy: 0.8895\n",
      "Epoch 5/20\n",
      "938/938 [==============================] - 4s 4ms/step - loss: 0.2367 - accuracy: 0.9156 - val_loss: 0.3236 - val_accuracy: 0.8855\n",
      "Epoch 6/20\n",
      "938/938 [==============================] - 4s 4ms/step - loss: 0.2248 - accuracy: 0.9196 - val_loss: 0.3308 - val_accuracy: 0.8817\n",
      "Epoch 7/20\n",
      "938/938 [==============================] - 4s 4ms/step - loss: 0.2150 - accuracy: 0.9228 - val_loss: 0.3405 - val_accuracy: 0.8784\n",
      "Epoch 8/20\n",
      "938/938 [==============================] - 4s 4ms/step - loss: 0.2063 - accuracy: 0.9253 - val_loss: 0.3539 - val_accuracy: 0.8738\n",
      "Epoch 9/20\n",
      "938/938 [==============================] - 4s 4ms/step - loss: 0.1989 - accuracy: 0.9275 - val_loss: 0.3651 - val_accuracy: 0.8702\n",
      "Epoch 10/20\n",
      "938/938 [==============================] - 4s 4ms/step - loss: 0.1912 - accuracy: 0.9309 - val_loss: 0.3707 - val_accuracy: 0.8726\n",
      "Epoch 11/20\n",
      "938/938 [==============================] - 4s 4ms/step - loss: 0.1859 - accuracy: 0.9331 - val_loss: 0.3617 - val_accuracy: 0.8759\n",
      "Epoch 12/20\n",
      "938/938 [==============================] - 4s 4ms/step - loss: 0.1800 - accuracy: 0.9350 - val_loss: 0.3529 - val_accuracy: 0.8799\n",
      "Epoch 13/20\n",
      "938/938 [==============================] - 4s 4ms/step - loss: 0.1753 - accuracy: 0.9363 - val_loss: 0.3926 - val_accuracy: 0.8711\n",
      "Epoch 14/20\n",
      "938/938 [==============================] - 4s 4ms/step - loss: 0.1716 - accuracy: 0.9380 - val_loss: 0.3721 - val_accuracy: 0.8785\n",
      "Epoch 15/20\n",
      "938/938 [==============================] - 4s 4ms/step - loss: 0.1671 - accuracy: 0.9398 - val_loss: 0.3997 - val_accuracy: 0.8720\n",
      "Epoch 16/20\n",
      "938/938 [==============================] - 4s 4ms/step - loss: 0.1636 - accuracy: 0.9409 - val_loss: 0.3858 - val_accuracy: 0.8766\n",
      "Epoch 17/20\n",
      "938/938 [==============================] - 4s 4ms/step - loss: 0.1603 - accuracy: 0.9420 - val_loss: 0.3806 - val_accuracy: 0.8791\n",
      "Epoch 18/20\n",
      "938/938 [==============================] - 4s 4ms/step - loss: 0.1569 - accuracy: 0.9429 - val_loss: 0.3883 - val_accuracy: 0.8784\n",
      "Epoch 19/20\n",
      "938/938 [==============================] - 4s 4ms/step - loss: 0.1536 - accuracy: 0.9444 - val_loss: 0.3782 - val_accuracy: 0.8829\n",
      "Epoch 20/20\n",
      "938/938 [==============================] - 4s 4ms/step - loss: 0.1507 - accuracy: 0.9454 - val_loss: 0.3721 - val_accuracy: 0.8838\n"
     ]
    }
   ],
   "source": [
    "device_name = tf.test.gpu_device_name()\n",
    "print(device_name)\n",
    "\n",
    "with tf.device('/device:GPU:0'):\n",
    "    history = Model.fit(train_datset, epochs = 20, validation_data = test_datset)\n"
   ]
  },
  {
   "cell_type": "markdown",
   "metadata": {},
   "source": [
    "<h3>Visualizing Model Loss and Model Accuracy over training</h3>"
   ]
  },
  {
   "cell_type": "code",
   "execution_count": 7,
   "metadata": {},
   "outputs": [
    {
     "data": {
      "text/plain": [
       "<Figure size 432x288 with 0 Axes>"
      ]
     },
     "execution_count": 7,
     "metadata": {},
     "output_type": "execute_result"
    },
    {
     "data": {
      "image/png": "[encoded data removed]",
      "text/plain": [
       "<Figure size 432x288 with 1 Axes>"
      ]
     },
     "metadata": {
      "needs_background": "light"
     },
     "output_type": "display_data"
    },
    {
     "data": {
      "image/png": "[encoded data removed]",
      "text/plain": [
       "<Figure size 432x288 with 1 Axes>"
      ]
     },
     "metadata": {
      "needs_background": "light"
     },
     "output_type": "display_data"
    },
    {
     "data": {
      "text/plain": [
       "<Figure size 432x288 with 0 Axes>"
      ]
     },
     "metadata": {},
     "output_type": "display_data"
    }
   ],
   "source": [
    "import pandas as pd\n",
    "\n",
    "history = pd.DataFrame(history.history)\n",
    "\n",
    "history.rename(columns = {'loss':'training loss', 'val_loss':'validation loss', 'accuracy':'training accuracy', 'val_accuracy': 'validation accuracy'}, inplace=True)\n",
    "\n",
    "plt.subplot(2,1,1)\n",
    "plt.plot(history['training loss'], label = 'training loss')\n",
    "plt.plot(history['validation loss'], label = 'validation loss')\n",
    "plt.title('Model Loss')\n",
    "plt.xlabel('epochs')\n",
    "plt.ylabel('loss')\n",
    "plt.legend(loc = 'upper right')\n",
    "plt.figure(figsize=(6,4))\n",
    "\n",
    "\n",
    "plt.subplot(2,1,2)\n",
    "plt.plot(history['training accuracy'], label = 'training accuracy')\n",
    "plt.plot(history['validation accuracy'], label = 'validation accuracy')\n",
    "plt.title('Model Accuracy')\n",
    "plt.xlabel('epochs')\n",
    "plt.ylabel('accuracy')\n",
    "plt.legend(loc = 'upper right')\n",
    "plt.figure(figsize=(6,4))"
   ]
  },
  {
   "cell_type": "markdown",
   "metadata": {},
   "source": [
    "<h3>Saving the Model</h3>"
   ]
  },
  {
   "cell_type": "code",
   "execution_count": 14,
   "metadata": {},
   "outputs": [
    {
     "name": "stderr",
     "output_type": "stream",
     "text": [
      "WARNING:absl:Found untraced functions such as _jit_compiled_convolution_op, _jit_compiled_convolution_op while saving (showing 2 of 2). These functions will not be directly callable after loading.\n"
     ]
    },
    {
     "name": "stdout",
     "output_type": "stream",
     "text": [
      "INFO:tensorflow:Assets written to: Model~v1.0\\assets\n"
     ]
    },
    {
     "name": "stderr",
     "output_type": "stream",
     "text": [
      "INFO:tensorflow:Assets written to: Model~v1.0\\assets\n"
     ]
    }
   ],
   "source": [
    "Model.save('Model~v1.0')"
   ]
  },
  {
   "cell_type": "markdown",
   "metadata": {},
   "source": [
    "<h3>Notes for the first v1.0 of the Model</h3>\n",
    "\n",
    "The Model performed very well on the training set however, there was a gap between the training loss and the validation loss. This means the model has high variance and may be overfitting the training set. Next, I will implement dropout regularization to regularize the Model."
   ]
  }
 ],
 "metadata": {
  "interpreter": {
   "hash": "602c94c5e625c8fc67b89b274f9eced6f49a7ae35691cfd2571de527b0559566"
  },
  "kernelspec": {
   "display_name": "Python 3.10.0 ('tensorflow')",
   "language": "python",
   "name": "python3"
  },
  "language_info": {
   "codemirror_mode": {
    "name": "ipython",
    "version": 3
   },
   "file_extension": ".py",
   "mimetype": "text/x-python",
   "name": "python",
   "nbconvert_exporter": "python",
   "pygments_lexer": "ipython3",
   "version": "3.10.0"
  },
  "orig_nbformat": 4
 },
 "nbformat": 4,
 "nbformat_minor": 2
}
