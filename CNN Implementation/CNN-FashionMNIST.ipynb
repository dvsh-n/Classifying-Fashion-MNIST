{
 "cells": [
  {
   "cell_type": "code",
   "execution_count": 1,
   "metadata": {},
   "outputs": [],
   "source": [
    "import tensorflow as tf\n",
    "import numpy\n",
    "from matplotlib import pyplot as plt\n",
    "from keras.datasets import fashion_mnist as fmnist\n",
    "from keras.models import Sequential\n",
    "from keras.layers import Dense, Flatten, Conv2D\n"
   ]
  },
  {
   "cell_type": "markdown",
   "metadata": {},
   "source": [
    "<h3>Loading the train test splits for fashion_mnist</h3>"
   ]
  },
  {
   "cell_type": "code",
   "execution_count": 2,
   "metadata": {},
   "outputs": [],
   "source": [
    "(train_X, train_y), (test_X, test_y) = fmnist.load_data()"
   ]
  },
  {
   "cell_type": "markdown",
   "metadata": {},
   "source": [
    "<h3>Preprocessing data</h3>"
   ]
  },
  {
   "cell_type": "code",
   "execution_count": 3,
   "metadata": {},
   "outputs": [],
   "source": [
    "def normalize(image):\n",
    "    \n",
    "    image = tf.cast(image, dtype=float)/255\n",
    "    image = tf.reshape(image, [-1,])\n",
    "\n",
    "    return image\n",
    "\n",
    "train_X = tf.data.Dataset.from_tensor_slices(train_X)\n",
    "train_y = tf.data.Dataset.from_tensor_slices(train_y)\n",
    "\n",
    "test_X = tf.data.Dataset.from_tensor_slices(test_X)\n",
    "test_y = tf.data.Dataset.from_tensor_slices(test_y)\n",
    "\n",
    "new_train_X = train_X.map(normalize)\n",
    "new_test_X = test_X.map(normalize)\n",
    "\n",
    "def one_hot_matrix(labels, depth = 10):\n",
    "    \n",
    "    one_hot = tf.reshape(tf.one_hot(labels, depth, axis = 0), [-1,])\n",
    "    \n",
    "    return one_hot\n",
    "\n",
    "new_train_y = train_y.map(one_hot_matrix)\n",
    "new_test_y = test_y.map(one_hot_matrix)"
   ]
  },
  {
   "cell_type": "markdown",
   "metadata": {},
   "source": [
    "<h3>Creating a Model</h3>"
   ]
  },
  {
   "cell_type": "code",
   "execution_count": null,
   "metadata": {},
   "outputs": [],
   "source": []
  }
 ],
 "metadata": {
  "interpreter": {
   "hash": "602c94c5e625c8fc67b89b274f9eced6f49a7ae35691cfd2571de527b0559566"
  },
  "kernelspec": {
   "display_name": "Python 3.10.0 ('tensorflow')",
   "language": "python",
   "name": "python3"
  },
  "language_info": {
   "codemirror_mode": {
    "name": "ipython",
    "version": 3
   },
   "file_extension": ".py",
   "mimetype": "text/x-python",
   "name": "python",
   "nbconvert_exporter": "python",
   "pygments_lexer": "ipython3",
   "version": "3.10.0"
  },
  "orig_nbformat": 4
 },
 "nbformat": 4,
 "nbformat_minor": 2
}
